{
 "cells": [
  {
   "cell_type": "markdown",
   "metadata": {},
   "source": [
    "# Northwind Data Insights"
   ]
  },
  {
   "cell_type": "markdown",
   "metadata": {},
   "source": [
    "The company Northwind has asked me to analyze the data in their local database to provide insights on potential future strategies. While digging into the data, I came up with four question to investigate and test to determine whether there was significance within highlights of the data. I focused on 3 key areas within the business:\n",
    "1. The significance of discounts on quantity of products purchased.\n",
    "2. The significance of product categories on revenue.\n",
    "3. The significance of revenue produced by specific employees.\n",
    "\n",
    "Below is the database schema for Northwind from which I will be pulling the data for analysis."
   ]
  },
  {
   "cell_type": "markdown",
   "metadata": {},
   "source": [
    "<img src='Northwind_ERD.png'>"
   ]
  },
  {
   "cell_type": "markdown",
   "metadata": {},
   "source": [
    "The first thing i wanted to do was import all necessary python libraries to complete the analysis."
   ]
  },
  {
   "cell_type": "code",
   "execution_count": 1,
   "metadata": {},
   "outputs": [],
   "source": [
    "import sqlalchemy #used to communicate tasks to the SQL database\n",
    "from sqlalchemy import create_engine, inspect \n",
    "import pandas as pd #used to convert the data needed into a pandas database for further analysis\n",
    "import matplotlib.pyplot as plt #to create the data visualization\n",
    "import numpy as np\n",
    "from scipy import stats # used to run T-Tests for hypothesis testing\n",
    "import statsmodels.stats.multicomp as stat # used to run the tukey analysis for hypothesis testing\n"
   ]
  },
  {
   "cell_type": "markdown",
   "metadata": {},
   "source": [
    "To bring the SQL database in to run the analysis, I will need to create an engine that responds to my SQL queries."
   ]
  },
  {
   "cell_type": "code",
   "execution_count": 2,
   "metadata": {},
   "outputs": [
    {
     "name": "stdout",
     "output_type": "stream",
     "text": [
      "2019-01-24 11:37:15,622 INFO sqlalchemy.engine.base.Engine SELECT CAST('test plain returns' AS VARCHAR(60)) AS anon_1\n",
      "2019-01-24 11:37:15,633 INFO sqlalchemy.engine.base.Engine ()\n",
      "2019-01-24 11:37:15,634 INFO sqlalchemy.engine.base.Engine SELECT CAST('test unicode returns' AS VARCHAR(60)) AS anon_1\n",
      "2019-01-24 11:37:15,635 INFO sqlalchemy.engine.base.Engine ()\n"
     ]
    }
   ],
   "source": [
    "engine = create_engine('sqlite:///northwind_small.sqlite',echo=True)\n",
    "inspector = inspect(engine)"
   ]
  },
  {
   "cell_type": "markdown",
   "metadata": {},
   "source": [
    "Now that the database can be access via an SQL query and python code, I will start investigating my questions to come up with valuable insights."
   ]
  },
  {
   "cell_type": "markdown",
   "metadata": {},
   "source": [
    "## Do discounts have a statistically significant effect on the number of products customers order? If so, at what level(s) of discount?\n",
    "\n",
    "I created the following one tail null hypothesis and alternative hypothesis to answer this question:\n",
    "\n",
    "**H0: The mean quantity of products sold with a discount = the mean quantity of products sold without a discount **\n",
    "\n",
    "**HA: The mean quantity of products sold with a discount > the mean quantity of products sold without a discount **\n",
    "\n"
   ]
  },
  {
   "cell_type": "markdown",
   "metadata": {},
   "source": [
    "Looking at the schema above, I believe all the information needed to answer this question can be found in the Order Details table. Below is the code used to create a Pandas DataFrame for this table."
   ]
  },
  {
   "cell_type": "code",
   "execution_count": 3,
   "metadata": {},
   "outputs": [
    {
     "name": "stdout",
     "output_type": "stream",
     "text": [
      "2019-01-24 11:37:16,570 INFO sqlalchemy.engine.base.Engine SELECT name FROM sqlite_master WHERE type='table' ORDER BY name\n",
      "2019-01-24 11:37:16,571 INFO sqlalchemy.engine.base.Engine ()\n"
     ]
    },
    {
     "data": {
      "text/plain": [
       "['Category',\n",
       " 'Customer',\n",
       " 'CustomerCustomerDemo',\n",
       " 'CustomerDemographic',\n",
       " 'Employee',\n",
       " 'EmployeeTerritory',\n",
       " 'Order',\n",
       " 'OrderDetail',\n",
       " 'Product',\n",
       " 'Region',\n",
       " 'Shipper',\n",
       " 'Supplier',\n",
       " 'Territory']"
      ]
     },
     "execution_count": 3,
     "metadata": {},
     "output_type": "execute_result"
    }
   ],
   "source": [
    "inspector.get_table_names() #looks at the schema's names for each data table"
   ]
  },
  {
   "cell_type": "code",
   "execution_count": 4,
   "metadata": {},
   "outputs": [
    {
     "name": "stdout",
     "output_type": "stream",
     "text": [
      "2019-01-24 11:37:16,974 INFO sqlalchemy.engine.base.Engine select * from [OrderDetail]\n",
      "2019-01-24 11:37:16,975 INFO sqlalchemy.engine.base.Engine ()\n"
     ]
    },
    {
     "data": {
      "text/html": [
       "<div>\n",
       "<style scoped>\n",
       "    .dataframe tbody tr th:only-of-type {\n",
       "        vertical-align: middle;\n",
       "    }\n",
       "\n",
       "    .dataframe tbody tr th {\n",
       "        vertical-align: top;\n",
       "    }\n",
       "\n",
       "    .dataframe thead th {\n",
       "        text-align: right;\n",
       "    }\n",
       "</style>\n",
       "<table border=\"1\" class=\"dataframe\">\n",
       "  <thead>\n",
       "    <tr style=\"text-align: right;\">\n",
       "      <th></th>\n",
       "      <th>Id</th>\n",
       "      <th>OrderId</th>\n",
       "      <th>ProductId</th>\n",
       "      <th>UnitPrice</th>\n",
       "      <th>Quantity</th>\n",
       "      <th>Discount</th>\n",
       "    </tr>\n",
       "  </thead>\n",
       "  <tbody>\n",
       "    <tr>\n",
       "      <th>0</th>\n",
       "      <td>10248/11</td>\n",
       "      <td>10248</td>\n",
       "      <td>11</td>\n",
       "      <td>14.0</td>\n",
       "      <td>12</td>\n",
       "      <td>0.0</td>\n",
       "    </tr>\n",
       "    <tr>\n",
       "      <th>1</th>\n",
       "      <td>10248/42</td>\n",
       "      <td>10248</td>\n",
       "      <td>42</td>\n",
       "      <td>9.8</td>\n",
       "      <td>10</td>\n",
       "      <td>0.0</td>\n",
       "    </tr>\n",
       "    <tr>\n",
       "      <th>2</th>\n",
       "      <td>10248/72</td>\n",
       "      <td>10248</td>\n",
       "      <td>72</td>\n",
       "      <td>34.8</td>\n",
       "      <td>5</td>\n",
       "      <td>0.0</td>\n",
       "    </tr>\n",
       "    <tr>\n",
       "      <th>3</th>\n",
       "      <td>10249/14</td>\n",
       "      <td>10249</td>\n",
       "      <td>14</td>\n",
       "      <td>18.6</td>\n",
       "      <td>9</td>\n",
       "      <td>0.0</td>\n",
       "    </tr>\n",
       "    <tr>\n",
       "      <th>4</th>\n",
       "      <td>10249/51</td>\n",
       "      <td>10249</td>\n",
       "      <td>51</td>\n",
       "      <td>42.4</td>\n",
       "      <td>40</td>\n",
       "      <td>0.0</td>\n",
       "    </tr>\n",
       "  </tbody>\n",
       "</table>\n",
       "</div>"
      ],
      "text/plain": [
       "         Id  OrderId  ProductId  UnitPrice  Quantity  Discount\n",
       "0  10248/11    10248         11       14.0        12       0.0\n",
       "1  10248/42    10248         42        9.8        10       0.0\n",
       "2  10248/72    10248         72       34.8         5       0.0\n",
       "3  10249/14    10249         14       18.6         9       0.0\n",
       "4  10249/51    10249         51       42.4        40       0.0"
      ]
     },
     "execution_count": 4,
     "metadata": {},
     "output_type": "execute_result"
    }
   ],
   "source": [
    "df = pd.read_sql_query(\"select * from [OrderDetail]\",engine) #creates the dataframe from the Order Detail data table in the SQL database\n",
    "df.head()"
   ]
  },
  {
   "cell_type": "markdown",
   "metadata": {},
   "source": [
    "Before starting the hypothesis testing, I did a quick check for any missing values or outliers I should review before beginning"
   ]
  },
  {
   "cell_type": "code",
   "execution_count": 5,
   "metadata": {
    "scrolled": false
   },
   "outputs": [
    {
     "name": "stdout",
     "output_type": "stream",
     "text": [
      "<class 'pandas.core.frame.DataFrame'>\n",
      "RangeIndex: 2155 entries, 0 to 2154\n",
      "Data columns (total 6 columns):\n",
      "Id           2155 non-null object\n",
      "OrderId      2155 non-null int64\n",
      "ProductId    2155 non-null int64\n",
      "UnitPrice    2155 non-null float64\n",
      "Quantity     2155 non-null int64\n",
      "Discount     2155 non-null float64\n",
      "dtypes: float64(2), int64(3), object(1)\n",
      "memory usage: 101.1+ KB\n"
     ]
    }
   ],
   "source": [
    "df.info()"
   ]
  },
  {
   "cell_type": "code",
   "execution_count": 6,
   "metadata": {},
   "outputs": [
    {
     "data": {
      "text/html": [
       "<div>\n",
       "<style scoped>\n",
       "    .dataframe tbody tr th:only-of-type {\n",
       "        vertical-align: middle;\n",
       "    }\n",
       "\n",
       "    .dataframe tbody tr th {\n",
       "        vertical-align: top;\n",
       "    }\n",
       "\n",
       "    .dataframe thead th {\n",
       "        text-align: right;\n",
       "    }\n",
       "</style>\n",
       "<table border=\"1\" class=\"dataframe\">\n",
       "  <thead>\n",
       "    <tr style=\"text-align: right;\">\n",
       "      <th></th>\n",
       "      <th>OrderId</th>\n",
       "      <th>ProductId</th>\n",
       "      <th>UnitPrice</th>\n",
       "      <th>Quantity</th>\n",
       "      <th>Discount</th>\n",
       "    </tr>\n",
       "  </thead>\n",
       "  <tbody>\n",
       "    <tr>\n",
       "      <th>count</th>\n",
       "      <td>2155.000000</td>\n",
       "      <td>2155.000000</td>\n",
       "      <td>2155.000000</td>\n",
       "      <td>2155.000000</td>\n",
       "      <td>2155.000000</td>\n",
       "    </tr>\n",
       "    <tr>\n",
       "      <th>mean</th>\n",
       "      <td>10659.375870</td>\n",
       "      <td>40.793039</td>\n",
       "      <td>26.218520</td>\n",
       "      <td>23.812993</td>\n",
       "      <td>0.056167</td>\n",
       "    </tr>\n",
       "    <tr>\n",
       "      <th>std</th>\n",
       "      <td>241.378032</td>\n",
       "      <td>22.159019</td>\n",
       "      <td>29.827418</td>\n",
       "      <td>19.022047</td>\n",
       "      <td>0.083450</td>\n",
       "    </tr>\n",
       "    <tr>\n",
       "      <th>min</th>\n",
       "      <td>10248.000000</td>\n",
       "      <td>1.000000</td>\n",
       "      <td>2.000000</td>\n",
       "      <td>1.000000</td>\n",
       "      <td>0.000000</td>\n",
       "    </tr>\n",
       "    <tr>\n",
       "      <th>25%</th>\n",
       "      <td>10451.000000</td>\n",
       "      <td>22.000000</td>\n",
       "      <td>12.000000</td>\n",
       "      <td>10.000000</td>\n",
       "      <td>0.000000</td>\n",
       "    </tr>\n",
       "    <tr>\n",
       "      <th>50%</th>\n",
       "      <td>10657.000000</td>\n",
       "      <td>41.000000</td>\n",
       "      <td>18.400000</td>\n",
       "      <td>20.000000</td>\n",
       "      <td>0.000000</td>\n",
       "    </tr>\n",
       "    <tr>\n",
       "      <th>75%</th>\n",
       "      <td>10862.500000</td>\n",
       "      <td>60.000000</td>\n",
       "      <td>32.000000</td>\n",
       "      <td>30.000000</td>\n",
       "      <td>0.100000</td>\n",
       "    </tr>\n",
       "    <tr>\n",
       "      <th>max</th>\n",
       "      <td>11077.000000</td>\n",
       "      <td>77.000000</td>\n",
       "      <td>263.500000</td>\n",
       "      <td>130.000000</td>\n",
       "      <td>0.250000</td>\n",
       "    </tr>\n",
       "  </tbody>\n",
       "</table>\n",
       "</div>"
      ],
      "text/plain": [
       "            OrderId    ProductId    UnitPrice     Quantity     Discount\n",
       "count   2155.000000  2155.000000  2155.000000  2155.000000  2155.000000\n",
       "mean   10659.375870    40.793039    26.218520    23.812993     0.056167\n",
       "std      241.378032    22.159019    29.827418    19.022047     0.083450\n",
       "min    10248.000000     1.000000     2.000000     1.000000     0.000000\n",
       "25%    10451.000000    22.000000    12.000000    10.000000     0.000000\n",
       "50%    10657.000000    41.000000    18.400000    20.000000     0.000000\n",
       "75%    10862.500000    60.000000    32.000000    30.000000     0.100000\n",
       "max    11077.000000    77.000000   263.500000   130.000000     0.250000"
      ]
     },
     "execution_count": 6,
     "metadata": {},
     "output_type": "execute_result"
    }
   ],
   "source": [
    "df.describe()"
   ]
  },
  {
   "cell_type": "markdown",
   "metadata": {},
   "source": [
    "I am comfortable with the data and will begin investigating the question. I first wanted to get a sense of total quantity sold at each discount level to see if there is initial evidence that our question could be true. For that I created the histograms for each discount level as well as pulled the mean quantity sold value to compare."
   ]
  },
  {
   "cell_type": "code",
   "execution_count": 7,
   "metadata": {
    "scrolled": true
   },
   "outputs": [
    {
     "data": {
      "text/plain": [
       "array([0.  , 0.15, 0.05, 0.2 , 0.25, 0.1 , 0.02, 0.03, 0.04, 0.06, 0.01])"
      ]
     },
     "execution_count": 7,
     "metadata": {},
     "output_type": "execute_result"
    }
   ],
   "source": [
    "df.Discount.unique()"
   ]
  },
  {
   "cell_type": "code",
   "execution_count": 1,
   "metadata": {},
   "outputs": [],
   "source": [
    "vals = [0, 10, 15, 20, 25] #creating our keys and values to turn our discounts into a dictionary format\n",
    "keys = ['d_{}'.format(val) for val in vals]"
   ]
  },
  {
   "cell_type": "code",
   "execution_count": 9,
   "metadata": {},
   "outputs": [],
   "source": [
    "discounts = dict() #creating a dictionary of discount keys to their quantity values\n",
    "for key, val in zip(keys, vals):\n",
    "    discounts[key] = None\n",
    "    ddf = df.Quantity[df.Discount==0.01*val]\n",
    "    discounts[key] = ddf\n",
    "discounts['d_all'] = df.Quantity[df.Discount > 0.00] # I also added a total quantity group with all discounts applied.\n",
    "discounts['d_under_10'] = df.Quantity[(df.Discount> 0.00) & (df.Discount < 0.10)] # I decided to combine the discounts less than 10% into on group"
   ]
  },
  {
   "cell_type": "code",
   "execution_count": 10,
   "metadata": {},
   "outputs": [
    {
     "data": {
      "image/png": "[encoded data removed]",
      "text/plain": [
       "<Figure size 432x288 with 1 Axes>"
      ]
     },
     "metadata": {
      "needs_background": "light"
     },
     "output_type": "display_data"
    },
    {
     "data": {
      "image/png": "[encoded data removed]",
      "text/plain": [
       "<Figure size 432x288 with 1 Axes>"
      ]
     },
     "metadata": {
      "needs_background": "light"
     },
     "output_type": "display_data"
    },
    {
     "data": {
      "image/png": "[encoded data removed]",
      "text/plain": [
       "<Figure size 432x288 with 1 Axes>"
      ]
     },
     "metadata": {
      "needs_background": "light"
     },
     "output_type": "display_data"
    },
    {
     "data": {
      "image/png": "[encoded data removed]",
      "text/plain": [
       "<Figure size 432x288 with 1 Axes>"
      ]
     },
     "metadata": {
      "needs_background": "light"
     },
     "output_type": "display_data"
    },
    {
     "data": {
      "image/png": "[encoded data removed]",
      "text/plain": [
       "<Figure size 432x288 with 1 Axes>"
      ]
     },
     "metadata": {
      "needs_background": "light"
     },
     "output_type": "display_data"
    },
    {
     "data": {
      "image/png": "[encoded data removed]",
      "text/plain": [
       "<Figure size 432x288 with 1 Axes>"
      ]
     },
     "metadata": {
      "needs_background": "light"
     },
     "output_type": "display_data"
    },
    {
     "data": {
      "image/png": "[encoded data removed]",
      "text/plain": [
       "<Figure size 432x288 with 1 Axes>"
      ]
     },
     "metadata": {
      "needs_background": "light"
     },
     "output_type": "display_data"
    }
   ],
   "source": [
    "for discount, q in discounts.items(): #histogram for each group\n",
    "    plt.hist(q)\n",
    "    plt.title(discount)\n",
    "    plt.show()"
   ]
  },
  {
   "cell_type": "code",
   "execution_count": 11,
   "metadata": {
    "scrolled": true
   },
   "outputs": [
    {
     "name": "stdout",
     "output_type": "stream",
     "text": [
      "d_0 quantity mean: 21.715261958997722\n",
      "d_10 quantity mean: 25.23699421965318\n",
      "d_15 quantity mean: 28.38216560509554\n",
      "d_20 quantity mean: 27.024844720496894\n",
      "d_25 quantity mean: 28.24025974025974\n",
      "d_all quantity mean: 27.10978520286396\n",
      "d_under_10 quantity mean: 26.922279792746114\n"
     ]
    }
   ],
   "source": [
    "for i in discounts.keys(): # provides the mean score of quantity sold per product for each discount level\n",
    "    print(i,'quantity mean:',discounts[i].mean())"
   ]
  },
  {
   "cell_type": "markdown",
   "metadata": {},
   "source": [
    "As you can see above, the greatest frequency of quantities increases as the discounts increase, giving us a good sense that quantity purchase is influenced by discounts. Also, each discount level's mean quantity sold is greater than the mean quantity sold for products at a zero discount. I will move forward with hypothesis testing."
   ]
  },
  {
   "cell_type": "markdown",
   "metadata": {},
   "source": [
    "For my hypothesis testing to see if there is any significance with this influence, I decided to run a Tukey test, which compares every combination of comparison in the groups provided to see where significance lies. I will use an alpha score of 0.05, meaning if I get a P-value less than that, I can reject our null hypothesis for that discount group and state that there is statistical significance with the use of discounts. The comparisons I am most interested in seeing are:\n",
    "\n",
    "1. Zero discounts versus all discounts\n",
    "2. Zero discounts versus each level of discount\n",
    "\n",
    "The below code is used to run our Tukey test:\n"
   ]
  },
  {
   "cell_type": "code",
   "execution_count": 12,
   "metadata": {},
   "outputs": [],
   "source": [
    "v = np.concatenate(list(discounts.values())) # this code creates our list of values and labels that the statsmodel tukey code can understand\n",
    "l = []\n",
    "for i in discounts.keys():\n",
    "    l.append([i] * len(discounts[i]))\n",
    "label = np.concatenate(l)\n"
   ]
  },
  {
   "cell_type": "code",
   "execution_count": 13,
   "metadata": {},
   "outputs": [
    {
     "name": "stdout",
     "output_type": "stream",
     "text": [
      "Multiple Comparison of Means - Tukey HSD,FWER=0.05\n",
      "=================================================\n",
      "group1   group2   meandiff  lower   upper  reject\n",
      "-------------------------------------------------\n",
      " d_0      d_10     3.5217  -1.1084  8.1518 False \n",
      " d_0      d_15     6.6669   1.8328  11.501  True \n",
      " d_0      d_20     5.3096   0.5294 10.0898  True \n",
      " d_0      d_25     6.525    1.649   11.401  True \n",
      " d_0     d_all     5.3945   2.8645  7.9245  True \n",
      " d_0   d_under_10  5.207    0.7941   9.62   True \n",
      " d_10     d_15     3.1452  -3.1658  9.4561 False \n",
      " d_10     d_20     1.7879  -4.4819  8.0576 False \n",
      " d_10     d_25     3.0033  -3.3399  9.3464 False \n",
      " d_10    d_all     1.8728  -2.9085  6.6541 False \n",
      " d_10  d_under_10  1.6853  -4.3092  7.6798 False \n",
      " d_15     d_20    -1.3573  -7.7792  5.0646 False \n",
      " d_15     d_25    -0.1419  -6.6355  6.3516 False \n",
      " d_15    d_all    -1.2724  -6.2515  3.7067 False \n",
      " d_15  d_under_10 -1.4599  -7.6133  4.6936 False \n",
      " d_20     d_25     1.2154  -5.2381  7.6689 False \n",
      " d_20    d_all     0.0849  -4.8418  5.0117 False \n",
      " d_20  d_under_10 -0.1026  -6.2137  6.0086 False \n",
      " d_25    d_all    -1.1305  -6.1503  3.8893 False \n",
      " d_25  d_under_10  -1.318  -7.5044  4.8684 False \n",
      "d_all  d_under_10 -0.1875  -4.7588  4.3838 False \n",
      "-------------------------------------------------\n"
     ]
    }
   ],
   "source": [
    "print(stat.pairwise_tukeyhsd(v, label, alpha=0.05)) # runs the tukey analysis"
   ]
  },
  {
   "cell_type": "markdown",
   "metadata": {},
   "source": [
    "As we can see above, we can reject the null hypothesis when comparing no discounts to any level of discount, except for a discount of 10%. I also decide to run a Cohen D test to see the effect size of these significance."
   ]
  },
  {
   "cell_type": "code",
   "execution_count": 14,
   "metadata": {},
   "outputs": [
    {
     "name": "stdout",
     "output_type": "stream",
     "text": [
      "d_0 Effect Size: 0.0\n",
      "d_10 Effect Size: 0.19594203057834086\n",
      "d_15 Effect Size: 0.3724041317472808\n",
      "d_20 Effect Size: 0.3007122542913553\n",
      "d_25 Effect Size: 0.36659255652674416\n",
      "d_all Effect Size: 0.2862724481729282\n",
      "d_under_10 Effect Size: 0.28613491894928983\n"
     ]
    }
   ],
   "source": [
    "def Cohen_d(group1, group2): #function that takes two groups of data and determines the effect size change from one to another\n",
    "\n",
    "    diff = group1.mean() - group2.mean()\n",
    "\n",
    "    n1, n2 = len(group1), len(group2)\n",
    "    var1 = group1.var()\n",
    "    var2 = group2.var()\n",
    "\n",
    "    # Calculate the pooled threshold as shown earlier\n",
    "    pooled_var = (n1 * var1 + n2 * var2) / (n1 + n2)\n",
    "    \n",
    "    # Calculate Cohen's d statistic\n",
    "    d = diff / np.sqrt(pooled_var)\n",
    "    \n",
    "    return d\n",
    "\n",
    "#Small effect = 0.2\n",
    "#Medium Effect = 0.5\n",
    "#Large Effect = 0.8\n",
    "\n",
    "for i in discounts.keys(): # use this function to compare all discount levels to zero discounts\n",
    "    print(i,'Effect Size:',Cohen_d(discounts[i],discounts['d_0']))"
   ]
  },
  {
   "cell_type": "markdown",
   "metadata": {},
   "source": [
    "The effect sizes for all comparisons are shown to be between 0.2 and 0.4, meaning they are small effects."
   ]
  },
  {
   "cell_type": "markdown",
   "metadata": {},
   "source": [
    "So as we can see from the Tukey test, we were able to reject the null hypothesis and determine there is a statistical significance to using discounts on products to influence the quantity of products purchased from customers. There was statistical significance at all levels of discounts except for 10%. Although we could not reject the null hypothesis for 10% discount, our data did show a larger mean quantity purchased at this level. This means that although there seems to be evidence of increased quantity purchased at 10% discount, the increase is not within our threshold of 0.05 to state that the probability of this happening is too low. Our Cohen D test showed that the effects of the discounts on quantity purchase is small.\n",
    "\n",
    "For the business, what this means is that if Northwind is looking to increase their quantity purchased from their customers, determining a price strategy that includes a discount is an effective way to accomplish this. 15% and 25% seem to be the most effective discounts to use to increase quantity purchased."
   ]
  },
  {
   "cell_type": "markdown",
   "metadata": {},
   "source": [
    "## Do discounts for different product categories have a statistically significant effect on the number of products customers order from that product category?\n",
    "\n",
    "Below is the one tail hypothesis test I will conduct to answer this questions:\n",
    "\n",
    "**H0: The mean quantity of products sold for each product category with a discount = the mean quantity of products sold without a discount **\n",
    "\n",
    "**HA: The mean quantity of products sold for each product category with a discount > the mean quantity of products sold without a discount **"
   ]
  },
  {
   "cell_type": "markdown",
   "metadata": {},
   "source": [
    "To answer this question, I will need to combine a few of the data tables from the database. Below is the SQL queries I ran, as well as the pandas merges to combine the dataframes that includes order details, product information, and product category information to run the analysis."
   ]
  },
  {
   "cell_type": "code",
   "execution_count": 15,
   "metadata": {},
   "outputs": [
    {
     "name": "stdout",
     "output_type": "stream",
     "text": [
      "2019-01-24 11:37:33,363 INFO sqlalchemy.engine.base.Engine select * from [OrderDetail] left join [Order] on [Order].Id = OrderDetail.OrderId\n",
      "2019-01-24 11:37:33,365 INFO sqlalchemy.engine.base.Engine ()\n",
      "2019-01-24 11:37:33,393 INFO sqlalchemy.engine.base.Engine select * from [Product] inner join Category on Category.Id = Product.CategoryId \n",
      "2019-01-24 11:37:33,394 INFO sqlalchemy.engine.base.Engine ()\n"
     ]
    }
   ],
   "source": [
    "df1 = pd.read_sql_query(\"select * from [OrderDetail] left join [Order] on [Order].Id = OrderDetail.OrderId\",engine) # creates a dataframe combining the Order Detail and Order data tables from the database\n",
    "df2 = pd.read_sql_query(\"select * from [Product] inner join Category on Category.Id = Product.CategoryId \",engine) # creates a dataframe combining the Product data table with the category data table\n",
    "column_names = df2.columns.values\n",
    "column_names[10] = 'Id_z' #in order to merge these dataframes, i need to remove a copy of the 'Id' column\n",
    "df2.columns = column_names\n",
    "merg_df = pd.merge(df1,df2,how='left',left_on='ProductId',right_on='Id') #merging the dataframes into one\n",
    "merg_df = merg_df.drop(labels='Id_x',axis=1)"
   ]
  },
  {
   "cell_type": "code",
   "execution_count": 16,
   "metadata": {},
   "outputs": [
    {
     "data": {
      "text/html": [
       "<div>\n",
       "<style scoped>\n",
       "    .dataframe tbody tr th:only-of-type {\n",
       "        vertical-align: middle;\n",
       "    }\n",
       "\n",
       "    .dataframe tbody tr th {\n",
       "        vertical-align: top;\n",
       "    }\n",
       "\n",
       "    .dataframe thead th {\n",
       "        text-align: right;\n",
       "    }\n",
       "</style>\n",
       "<table border=\"1\" class=\"dataframe\">\n",
       "  <thead>\n",
       "    <tr style=\"text-align: right;\">\n",
       "      <th></th>\n",
       "      <th>OrderId</th>\n",
       "      <th>ProductId</th>\n",
       "      <th>UnitPrice_x</th>\n",
       "      <th>Quantity</th>\n",
       "      <th>Discount</th>\n",
       "      <th>CustomerId</th>\n",
       "      <th>EmployeeId</th>\n",
       "      <th>OrderDate</th>\n",
       "      <th>RequiredDate</th>\n",
       "      <th>ShippedDate</th>\n",
       "      <th>...</th>\n",
       "      <th>CategoryId</th>\n",
       "      <th>QuantityPerUnit</th>\n",
       "      <th>UnitPrice_y</th>\n",
       "      <th>UnitsInStock</th>\n",
       "      <th>UnitsOnOrder</th>\n",
       "      <th>ReorderLevel</th>\n",
       "      <th>Discontinued</th>\n",
       "      <th>Id_z</th>\n",
       "      <th>CategoryName</th>\n",
       "      <th>Description</th>\n",
       "    </tr>\n",
       "  </thead>\n",
       "  <tbody>\n",
       "    <tr>\n",
       "      <th>0</th>\n",
       "      <td>10248</td>\n",
       "      <td>11</td>\n",
       "      <td>14.0</td>\n",
       "      <td>12</td>\n",
       "      <td>0.0</td>\n",
       "      <td>VINET</td>\n",
       "      <td>5</td>\n",
       "      <td>2012-07-04</td>\n",
       "      <td>2012-08-01</td>\n",
       "      <td>2012-07-16</td>\n",
       "      <td>...</td>\n",
       "      <td>4</td>\n",
       "      <td>1 kg pkg.</td>\n",
       "      <td>21.00</td>\n",
       "      <td>22</td>\n",
       "      <td>30</td>\n",
       "      <td>30</td>\n",
       "      <td>0</td>\n",
       "      <td>4</td>\n",
       "      <td>Dairy Products</td>\n",
       "      <td>Cheeses</td>\n",
       "    </tr>\n",
       "    <tr>\n",
       "      <th>1</th>\n",
       "      <td>10248</td>\n",
       "      <td>42</td>\n",
       "      <td>9.8</td>\n",
       "      <td>10</td>\n",
       "      <td>0.0</td>\n",
       "      <td>VINET</td>\n",
       "      <td>5</td>\n",
       "      <td>2012-07-04</td>\n",
       "      <td>2012-08-01</td>\n",
       "      <td>2012-07-16</td>\n",
       "      <td>...</td>\n",
       "      <td>5</td>\n",
       "      <td>32 - 1 kg pkgs.</td>\n",
       "      <td>14.00</td>\n",
       "      <td>26</td>\n",
       "      <td>0</td>\n",
       "      <td>0</td>\n",
       "      <td>1</td>\n",
       "      <td>5</td>\n",
       "      <td>Grains/Cereals</td>\n",
       "      <td>Breads, crackers, pasta, and cereal</td>\n",
       "    </tr>\n",
       "    <tr>\n",
       "      <th>2</th>\n",
       "      <td>10248</td>\n",
       "      <td>72</td>\n",
       "      <td>34.8</td>\n",
       "      <td>5</td>\n",
       "      <td>0.0</td>\n",
       "      <td>VINET</td>\n",
       "      <td>5</td>\n",
       "      <td>2012-07-04</td>\n",
       "      <td>2012-08-01</td>\n",
       "      <td>2012-07-16</td>\n",
       "      <td>...</td>\n",
       "      <td>4</td>\n",
       "      <td>24 - 200 g pkgs.</td>\n",
       "      <td>34.80</td>\n",
       "      <td>14</td>\n",
       "      <td>0</td>\n",
       "      <td>0</td>\n",
       "      <td>0</td>\n",
       "      <td>4</td>\n",
       "      <td>Dairy Products</td>\n",
       "      <td>Cheeses</td>\n",
       "    </tr>\n",
       "    <tr>\n",
       "      <th>3</th>\n",
       "      <td>10249</td>\n",
       "      <td>14</td>\n",
       "      <td>18.6</td>\n",
       "      <td>9</td>\n",
       "      <td>0.0</td>\n",
       "      <td>TOMSP</td>\n",
       "      <td>6</td>\n",
       "      <td>2012-07-05</td>\n",
       "      <td>2012-08-16</td>\n",
       "      <td>2012-07-10</td>\n",
       "      <td>...</td>\n",
       "      <td>7</td>\n",
       "      <td>40 - 100 g pkgs.</td>\n",
       "      <td>23.25</td>\n",
       "      <td>35</td>\n",
       "      <td>0</td>\n",
       "      <td>0</td>\n",
       "      <td>0</td>\n",
       "      <td>7</td>\n",
       "      <td>Produce</td>\n",
       "      <td>Dried fruit and bean curd</td>\n",
       "    </tr>\n",
       "    <tr>\n",
       "      <th>4</th>\n",
       "      <td>10249</td>\n",
       "      <td>51</td>\n",
       "      <td>42.4</td>\n",
       "      <td>40</td>\n",
       "      <td>0.0</td>\n",
       "      <td>TOMSP</td>\n",
       "      <td>6</td>\n",
       "      <td>2012-07-05</td>\n",
       "      <td>2012-08-16</td>\n",
       "      <td>2012-07-10</td>\n",
       "      <td>...</td>\n",
       "      <td>7</td>\n",
       "      <td>50 - 300 g pkgs.</td>\n",
       "      <td>53.00</td>\n",
       "      <td>20</td>\n",
       "      <td>0</td>\n",
       "      <td>10</td>\n",
       "      <td>0</td>\n",
       "      <td>7</td>\n",
       "      <td>Produce</td>\n",
       "      <td>Dried fruit and bean curd</td>\n",
       "    </tr>\n",
       "  </tbody>\n",
       "</table>\n",
       "<p>5 rows × 31 columns</p>\n",
       "</div>"
      ],
      "text/plain": [
       "   OrderId  ProductId  UnitPrice_x  Quantity  Discount CustomerId  EmployeeId  \\\n",
       "0    10248         11         14.0        12       0.0      VINET           5   \n",
       "1    10248         42          9.8        10       0.0      VINET           5   \n",
       "2    10248         72         34.8         5       0.0      VINET           5   \n",
       "3    10249         14         18.6         9       0.0      TOMSP           6   \n",
       "4    10249         51         42.4        40       0.0      TOMSP           6   \n",
       "\n",
       "    OrderDate RequiredDate ShippedDate                 ...                   \\\n",
       "0  2012-07-04   2012-08-01  2012-07-16                 ...                    \n",
       "1  2012-07-04   2012-08-01  2012-07-16                 ...                    \n",
       "2  2012-07-04   2012-08-01  2012-07-16                 ...                    \n",
       "3  2012-07-05   2012-08-16  2012-07-10                 ...                    \n",
       "4  2012-07-05   2012-08-16  2012-07-10                 ...                    \n",
       "\n",
       "   CategoryId   QuantityPerUnit UnitPrice_y UnitsInStock UnitsOnOrder  \\\n",
       "0           4         1 kg pkg.       21.00           22           30   \n",
       "1           5   32 - 1 kg pkgs.       14.00           26            0   \n",
       "2           4  24 - 200 g pkgs.       34.80           14            0   \n",
       "3           7  40 - 100 g pkgs.       23.25           35            0   \n",
       "4           7  50 - 300 g pkgs.       53.00           20            0   \n",
       "\n",
       "  ReorderLevel Discontinued Id_z    CategoryName  \\\n",
       "0           30            0    4  Dairy Products   \n",
       "1            0            1    5  Grains/Cereals   \n",
       "2            0            0    4  Dairy Products   \n",
       "3            0            0    7         Produce   \n",
       "4           10            0    7         Produce   \n",
       "\n",
       "                           Description  \n",
       "0                              Cheeses  \n",
       "1  Breads, crackers, pasta, and cereal  \n",
       "2                              Cheeses  \n",
       "3            Dried fruit and bean curd  \n",
       "4            Dried fruit and bean curd  \n",
       "\n",
       "[5 rows x 31 columns]"
      ]
     },
     "execution_count": 16,
     "metadata": {},
     "output_type": "execute_result"
    }
   ],
   "source": [
    "merg_df.head()"
   ]
  },
  {
   "cell_type": "code",
   "execution_count": 17,
   "metadata": {},
   "outputs": [
    {
     "name": "stdout",
     "output_type": "stream",
     "text": [
      "<class 'pandas.core.frame.DataFrame'>\n",
      "Int64Index: 2155 entries, 0 to 2154\n",
      "Data columns (total 31 columns):\n",
      "OrderId            2155 non-null int64\n",
      "ProductId          2155 non-null int64\n",
      "UnitPrice_x        2155 non-null float64\n",
      "Quantity           2155 non-null int64\n",
      "Discount           2155 non-null float64\n",
      "CustomerId         2155 non-null object\n",
      "EmployeeId         2155 non-null int64\n",
      "OrderDate          2155 non-null object\n",
      "RequiredDate       2155 non-null object\n",
      "ShippedDate        2082 non-null object\n",
      "ShipVia            2155 non-null int64\n",
      "Freight            2155 non-null float64\n",
      "ShipName           2155 non-null object\n",
      "ShipAddress        2155 non-null object\n",
      "ShipCity           2155 non-null object\n",
      "ShipRegion         2155 non-null object\n",
      "ShipPostalCode     2100 non-null object\n",
      "ShipCountry        2155 non-null object\n",
      "Id_y               2155 non-null int64\n",
      "ProductName        2155 non-null object\n",
      "SupplierId         2155 non-null int64\n",
      "CategoryId         2155 non-null int64\n",
      "QuantityPerUnit    2155 non-null object\n",
      "UnitPrice_y        2155 non-null float64\n",
      "UnitsInStock       2155 non-null int64\n",
      "UnitsOnOrder       2155 non-null int64\n",
      "ReorderLevel       2155 non-null int64\n",
      "Discontinued       2155 non-null int64\n",
      "Id_z               2155 non-null int64\n",
      "CategoryName       2155 non-null object\n",
      "Description        2155 non-null object\n",
      "dtypes: float64(4), int64(13), object(14)\n",
      "memory usage: 538.8+ KB\n"
     ]
    }
   ],
   "source": [
    "merg_df.info()"
   ]
  },
  {
   "cell_type": "markdown",
   "metadata": {},
   "source": [
    "For this testing, I decided to do the similar procedure as was done to answer the first question, but I added another layer of filtering to include the category of the products sold. To save space in this jupyter notebook, I ran the analysis for one of the categories, and then would substitute the category each time, instead of running all categories at once. The \"catkey\" variable in the below code is where the product category is entered, followed by rerunning the code after its to get the results."
   ]
  },
  {
   "cell_type": "code",
   "execution_count": 18,
   "metadata": {},
   "outputs": [
    {
     "data": {
      "text/plain": [
       "Beverages         404\n",
       "Dairy Products    366\n",
       "Confections       334\n",
       "Seafood           330\n",
       "Condiments        216\n",
       "Grains/Cereals    196\n",
       "Meat/Poultry      173\n",
       "Produce           136\n",
       "Name: CategoryName, dtype: int64"
      ]
     },
     "execution_count": 18,
     "metadata": {},
     "output_type": "execute_result"
    }
   ],
   "source": [
    "merg_df.CategoryName.value_counts()"
   ]
  },
  {
   "cell_type": "code",
   "execution_count": 19,
   "metadata": {},
   "outputs": [
    {
     "data": {
      "text/plain": [
       "['Dairy Products',\n",
       " 'Grains/Cereals',\n",
       " 'Produce',\n",
       " 'Seafood',\n",
       " 'Condiments',\n",
       " 'Confections',\n",
       " 'Beverages',\n",
       " 'Meat/Poultry']"
      ]
     },
     "execution_count": 19,
     "metadata": {},
     "output_type": "execute_result"
    }
   ],
   "source": [
    "list(merg_df.CategoryName.unique())"
   ]
  },
  {
   "cell_type": "code",
   "execution_count": 20,
   "metadata": {},
   "outputs": [],
   "source": [
    "catkey = 'Meat/Poultry' # **CHANGE THIS EVERY RUN TO A DIFFERENT CATEGORY TO RUN THE HYPOTHESIS TEST**\n",
    "discounts = dict()\n",
    "for key, val in zip(keys, vals):\n",
    "    discounts[key] = None\n",
    "    ddf = merg_df.Quantity[(merg_df.Discount==0.01*val)&(merg_df.CategoryName == catkey)]\n",
    "    discounts[key] = ddf\n",
    "discounts['d_all'] = merg_df.Quantity[(df.Discount > 0.00) &(merg_df.CategoryName == catkey)]\n",
    "discounts['d_under_10'] = merg_df.Quantity[(merg_df.Discount> 0.00) & (merg_df.Discount < 0.10) & (merg_df.CategoryName == catkey)]\n"
   ]
  },
  {
   "cell_type": "code",
   "execution_count": 21,
   "metadata": {},
   "outputs": [
    {
     "data": {
      "image/png": "[encoded data removed]",
      "text/plain": [
       "<Figure size 432x288 with 1 Axes>"
      ]
     },
     "metadata": {
      "needs_background": "light"
     },
     "output_type": "display_data"
    },
    {
     "data": {
      "image/png": "[encoded data removed]",
      "text/plain": [
       "<Figure size 432x288 with 1 Axes>"
      ]
     },
     "metadata": {
      "needs_background": "light"
     },
     "output_type": "display_data"
    },
    {
     "data": {
      "image/png": "[encoded data removed]",
      "text/plain": [
       "<Figure size 432x288 with 1 Axes>"
      ]
     },
     "metadata": {
      "needs_background": "light"
     },
     "output_type": "display_data"
    },
    {
     "data": {
      "image/png": "[encoded data removed]",
      "text/plain": [
       "<Figure size 432x288 with 1 Axes>"
      ]
     },
     "metadata": {
      "needs_background": "light"
     },
     "output_type": "display_data"
    },
    {
     "data": {
      "image/png": "[encoded data removed]",
      "text/plain": [
       "<Figure size 432x288 with 1 Axes>"
      ]
     },
     "metadata": {
      "needs_background": "light"
     },
     "output_type": "display_data"
    },
    {
     "data": {
      "image/png": "[encoded data removed]",
      "text/plain": [
       "<Figure size 432x288 with 1 Axes>"
      ]
     },
     "metadata": {
      "needs_background": "light"
     },
     "output_type": "display_data"
    },
    {
     "data": {
      "image/png": "[encoded data removed]",
      "text/plain": [
       "<Figure size 432x288 with 1 Axes>"
      ]
     },
     "metadata": {
      "needs_background": "light"
     },
     "output_type": "display_data"
    }
   ],
   "source": [
    "for discount, q in discounts.items():\n",
    "    plt.hist(q)\n",
    "    plt.title(discount)\n",
    "    plt.show()"
   ]
  },
  {
   "cell_type": "code",
   "execution_count": 22,
   "metadata": {},
   "outputs": [
    {
     "name": "stdout",
     "output_type": "stream",
     "text": [
      "d_0 quantity mean: 20.721649484536083\n",
      "d_10 quantity mean: 35.2\n",
      "d_15 quantity mean: 31.444444444444443\n",
      "d_20 quantity mean: 21.0\n",
      "d_25 quantity mean: 35.1578947368421\n",
      "d_all quantity mean: 28.80263157894737\n",
      "d_under_10 quantity mean: 17.823529411764707\n"
     ]
    }
   ],
   "source": [
    "for i in discounts.keys():\n",
    "    print(i,'quantity mean:',discounts[i].mean())"
   ]
  },
  {
   "cell_type": "markdown",
   "metadata": {},
   "source": [
    "By running the histograms and seeing the mean quantity purchased for each category, I continued to see evidence that all the categories showed increased quantity purchased as discounts were included. So I ran the Tukey test again with an alpha threshold of 0.05 to see at each level of discount whether there was significance in this increase of quantity purchased."
   ]
  },
  {
   "cell_type": "code",
   "execution_count": 23,
   "metadata": {},
   "outputs": [],
   "source": [
    "v = np.concatenate(list(discounts.values()))\n",
    "l = []\n",
    "for i in discounts.keys():\n",
    "    l.append([i] * len(discounts[i]))\n",
    "label = np.concatenate(l)\n"
   ]
  },
  {
   "cell_type": "code",
   "execution_count": 24,
   "metadata": {},
   "outputs": [
    {
     "name": "stdout",
     "output_type": "stream",
     "text": [
      "Multiple Comparison of Means - Tukey HSD,FWER=0.05\n",
      "==================================================\n",
      "group1   group2   meandiff  lower    upper  reject\n",
      "--------------------------------------------------\n",
      " d_0      d_10    14.4784  -1.9764  30.9331 False \n",
      " d_0      d_15    10.7228  -12.625  34.0706 False \n",
      " d_0      d_20     0.2784  -21.0388 21.5955 False \n",
      " d_0      d_25    14.4362  -2.3737  31.2462 False \n",
      " d_0     d_all     8.081   -2.1833  18.3453 False \n",
      " d_0   d_under_10 -2.8981  -20.5155 14.7193 False \n",
      " d_10     d_15    -3.7556   -30.65  23.1389 False \n",
      " d_10     d_20     -14.2   -39.3518 10.9518 False \n",
      " d_10     d_25    -0.0421  -21.5076 21.4234 False \n",
      " d_10    d_all    -6.3974  -23.2363 10.4415 False \n",
      " d_10  d_under_10 -17.3765  -39.48   4.727  False \n",
      " d_15     d_20    -10.4444 -40.5604 19.6715 False \n",
      " d_15     d_25     3.7135  -23.3997 30.8266 False \n",
      " d_15    d_all    -2.6418  -26.2619 20.9783 False \n",
      " d_15  d_under_10 -13.6209 -41.242  14.0002 False \n",
      " d_20     d_25    14.1579  -11.2277 39.5435 False \n",
      " d_20    d_all     7.8026  -13.8124 29.4177 False \n",
      " d_20  d_under_10 -3.1765  -29.1038 22.7509 False \n",
      " d_25    d_all    -6.3553  -23.5414 10.8309 False \n",
      " d_25  d_under_10 -17.3344 -39.7035  5.0348 False \n",
      "d_all  d_under_10 -10.9791 -28.9558  6.9976 False \n",
      "--------------------------------------------------\n"
     ]
    }
   ],
   "source": [
    "print(stat.pairwise_tukeyhsd(v, label, alpha=0.05))"
   ]
  },
  {
   "cell_type": "markdown",
   "metadata": {},
   "source": [
    "After running through all the Tukey testing for each product category to determine significance, all the tests failed to reject our null hypothesis, meaning that I could not find any significance in a particular product category being influenced by discounts towards increase quanitities of purchase.\n",
    "\n",
    "For the business, what this means is that product category does not have an influence in how well discounts influence the quantity of products purchase, and that referring to the first question will help drive discount strategies for increase quantity purchase."
   ]
  },
  {
   "cell_type": "markdown",
   "metadata": {},
   "source": [
    "## Is there statistical significance in the category of product based on the revenue they produce?\n",
    "\n",
    "Below is the one tail hypothesis test I will conduct to answer this questions:\n",
    "\n",
    "*H0: The mean revenue of products sold at specific product categories = the mean revenue of all products sold *\n",
    "\n",
    "*HA: The mean revenue of products sold at specific product categories >  the mean revenue of all products sold *"
   ]
  },
  {
   "cell_type": "code",
   "execution_count": 25,
   "metadata": {},
   "outputs": [
    {
     "data": {
      "text/plain": [
       "Index(['OrderId', 'ProductId', 'UnitPrice_x', 'Quantity', 'Discount',\n",
       "       'CustomerId', 'EmployeeId', 'OrderDate', 'RequiredDate', 'ShippedDate',\n",
       "       'ShipVia', 'Freight', 'ShipName', 'ShipAddress', 'ShipCity',\n",
       "       'ShipRegion', 'ShipPostalCode', 'ShipCountry', 'Id_y', 'ProductName',\n",
       "       'SupplierId', 'CategoryId', 'QuantityPerUnit', 'UnitPrice_y',\n",
       "       'UnitsInStock', 'UnitsOnOrder', 'ReorderLevel', 'Discontinued', 'Id_z',\n",
       "       'CategoryName', 'Description'],\n",
       "      dtype='object')"
      ]
     },
     "execution_count": 25,
     "metadata": {},
     "output_type": "execute_result"
    }
   ],
   "source": [
    "merg_df.columns"
   ]
  },
  {
   "cell_type": "markdown",
   "metadata": {},
   "source": [
    "I was able to use our merged dataframe from the previous analysis to answer the question. I created the following 'Revenue' column in our dataframe which created our revenue received from each product sold"
   ]
  },
  {
   "cell_type": "code",
   "execution_count": 26,
   "metadata": {},
   "outputs": [],
   "source": [
    "merg_df['Revenue'] = merg_df['UnitPrice_x'] * merg_df['Quantity'] * (1-merg_df['Discount']) #code to add a Revenue column"
   ]
  },
  {
   "cell_type": "code",
   "execution_count": 27,
   "metadata": {},
   "outputs": [
    {
     "data": {
      "text/plain": [
       "Text(0, 0.5, 'Total Revenue')"
      ]
     },
     "execution_count": 27,
     "metadata": {},
     "output_type": "execute_result"
    },
    {
     "data": {
      "image/png": "[encoded data removed]",
      "text/plain": [
       "<Figure size 1080x720 with 1 Axes>"
      ]
     },
     "metadata": {
      "needs_background": "light"
     },
     "output_type": "display_data"
    }
   ],
   "source": [
    "rev_dict = dict() #creates a dictionary of our revenue to category names\n",
    "keys = list(merg_df.CategoryName.unique())\n",
    "for i in keys:\n",
    "    rev_dict[i] = None\n",
    "    valu = merg_df.Revenue[merg_df.CategoryName == i].sum()\n",
    "    rev_dict[i] = valu\n",
    "   \n",
    "plt.figure(figsize=(15,10)) #bar chart to look at total revenue per category\n",
    "plt.bar(rev_dict.keys(),rev_dict.values())\n",
    "plt.title('Revenue per Product Category')\n",
    "plt.ylabel('Total Revenue')"
   ]
  },
  {
   "cell_type": "code",
   "execution_count": 28,
   "metadata": {},
   "outputs": [],
   "source": [
    "stud_val = list(merg_df.CategoryName.unique()) #provides a dictionary of categories and all products sold per revenue generated\n",
    "revs_dict = dict()\n",
    "for key in stud_val:\n",
    "    revs_dict[key]=None\n",
    "    revs_dict[key] = merg_df.Revenue[merg_df.CategoryName == key]\n",
    "revs_dict['All'] = merg_df.Revenue\n"
   ]
  },
  {
   "cell_type": "code",
   "execution_count": 29,
   "metadata": {
    "scrolled": true
   },
   "outputs": [
    {
     "name": "stdout",
     "output_type": "stream",
     "text": [
      "Dairy Products revenue mean: 640.7302868852458\n",
      "Grains/Cereals revenue mean: 488.4927933673469\n",
      "Produce revenue mean: 735.1807352941175\n",
      "Seafood revenue mean: 397.76284090909087\n",
      "Condiments revenue mean: 490.9587268518518\n",
      "Confections revenue mean: 501.06953592814364\n",
      "Beverages revenue mean: 663.0400495049505\n",
      "Meat/Poultry revenue mean: 942.3257774566473\n",
      "All revenue mean: 587.374960324826\n"
     ]
    }
   ],
   "source": [
    "for keys in revs_dict.keys():\n",
    "    print(keys,'revenue mean:',revs_dict[keys].mean())"
   ]
  },
  {
   "cell_type": "markdown",
   "metadata": {},
   "source": [
    "Based on the above bar chart showing total revenue collected by product category, and the mean revenue per product per category, you can see that not all product categories sell the same. We will follow this insight up by running a two sample T-test on each category compared to the total mean revenue generated to see if any category has a statistical significance in their revenue generated."
   ]
  },
  {
   "cell_type": "code",
   "execution_count": 30,
   "metadata": {},
   "outputs": [
    {
     "name": "stdout",
     "output_type": "stream",
     "text": [
      "Dairy Products : Ttest_indResult(statistic=1.0102913512199867, pvalue=0.3124527555341981)\n",
      "Grains/Cereals : Ttest_indResult(statistic=-1.4089582081468492, pvalue=0.15897988296284438)\n",
      "Produce : Ttest_indResult(statistic=1.7440240345560045, pvalue=0.08128913390873187)\n",
      "Seafood : Ttest_indResult(statistic=-3.50192473110934, pvalue=0.0004700629525197672)\n",
      "Condiments : Ttest_indResult(statistic=-1.4454221885519987, pvalue=0.14847160031322224)\n",
      "Confections : Ttest_indResult(statistic=-1.5782139079063604, pvalue=0.11464365138893773)\n",
      "Beverages : Ttest_indResult(statistic=1.2537035880483638, pvalue=0.21006437402488798)\n",
      "Meat/Poultry : Ttest_indResult(statistic=4.504742567566793, pvalue=6.973989269882504e-06)\n",
      "All : Ttest_indResult(statistic=0.0, pvalue=1.0)\n"
     ]
    }
   ],
   "source": [
    "for keys in revs_dict.keys(): #two sample T-test comparing each product category's average revenue to the total average revenue\n",
    "    print(keys,':',stats.ttest_ind(revs_dict[keys], revs_dict['All']))"
   ]
  },
  {
   "cell_type": "code",
   "execution_count": 31,
   "metadata": {},
   "outputs": [
    {
     "name": "stdout",
     "output_type": "stream",
     "text": [
      "Dairy Products Effect Size: 0.057121709308067085\n",
      "Grains/Cereals Effect Size: -0.10513078636635244\n",
      "Produce Effect Size: 0.15420683945099964\n",
      "Seafood Effect Size: -0.207036738617528\n",
      "Condiments Effect Size: -0.10317447421688597\n",
      "Confections Effect Size: -0.09281594757497037\n",
      "Beverages Effect Size: 0.06795579524561468\n",
      "Meat/Poultry Effect Size: 0.35592251164345506\n",
      "All Effect Size: 0.0\n"
     ]
    }
   ],
   "source": [
    "for keys in revs_dict.keys(): #Cohen D test to test effect size of significance\n",
    "    print(keys,'Effect Size:',Cohen_d(revs_dict[keys],revs_dict['All']))"
   ]
  },
  {
   "cell_type": "markdown",
   "metadata": {},
   "source": [
    "Based on our two sample t test for each product category, we found that by using an alpha level of 0.05, that Seafood and Meat/Poultry both are statistically significant in their difference between the their revenue generated and the mean revenue generated amongst all products. Their effect size is considered small, but based on their P-Value and mean revenue generated, we can conclude the following for the business:\n",
    "\n",
    "1. Seafood's average revenue generated per product is lower than the mean of all products, meaning we need to investigate more into the selling strategy in order to increase sales.\n",
    "2. Meat/Poultry's average revenue generated per product is higher than the mean of all products, meaning that we could potentially develop new sellings strategies for other products that reflect what selling strategies we have been using for Meat/Poultry."
   ]
  },
  {
   "cell_type": "markdown",
   "metadata": {},
   "source": [
    "# Is there statistical significance in the different total revenue generated by each sales representative?\n",
    "\n",
    "Below is the one tail hypothesis test I will conduct to answer this questions:\n",
    "\n",
    "*H0: The mean revenue of products for each sales representative = the mean revenue of products sold for all sales representatives *\n",
    "\n",
    "*HA: The mean revenue of products for each sales representative > the mean revenue of products sold for all sales representatives *\n"
   ]
  },
  {
   "cell_type": "markdown",
   "metadata": {},
   "source": [
    "I was able to use our DataFrame that combined the 'Order' and 'Order Details' data tables into one dataset. This combined table provides an employee indicator. I will need to add a 'Revenue' column similar to what I created above."
   ]
  },
  {
   "cell_type": "code",
   "execution_count": 32,
   "metadata": {
    "scrolled": true
   },
   "outputs": [
    {
     "data": {
      "text/html": [
       "<div>\n",
       "<style scoped>\n",
       "    .dataframe tbody tr th:only-of-type {\n",
       "        vertical-align: middle;\n",
       "    }\n",
       "\n",
       "    .dataframe tbody tr th {\n",
       "        vertical-align: top;\n",
       "    }\n",
       "\n",
       "    .dataframe thead th {\n",
       "        text-align: right;\n",
       "    }\n",
       "</style>\n",
       "<table border=\"1\" class=\"dataframe\">\n",
       "  <thead>\n",
       "    <tr style=\"text-align: right;\">\n",
       "      <th></th>\n",
       "      <th>Id</th>\n",
       "      <th>OrderId</th>\n",
       "      <th>ProductId</th>\n",
       "      <th>UnitPrice</th>\n",
       "      <th>Quantity</th>\n",
       "      <th>Discount</th>\n",
       "      <th>Id</th>\n",
       "      <th>CustomerId</th>\n",
       "      <th>EmployeeId</th>\n",
       "      <th>OrderDate</th>\n",
       "      <th>RequiredDate</th>\n",
       "      <th>ShippedDate</th>\n",
       "      <th>ShipVia</th>\n",
       "      <th>Freight</th>\n",
       "      <th>ShipName</th>\n",
       "      <th>ShipAddress</th>\n",
       "      <th>ShipCity</th>\n",
       "      <th>ShipRegion</th>\n",
       "      <th>ShipPostalCode</th>\n",
       "      <th>ShipCountry</th>\n",
       "    </tr>\n",
       "  </thead>\n",
       "  <tbody>\n",
       "    <tr>\n",
       "      <th>0</th>\n",
       "      <td>10248/11</td>\n",
       "      <td>10248</td>\n",
       "      <td>11</td>\n",
       "      <td>14.0</td>\n",
       "      <td>12</td>\n",
       "      <td>0.0</td>\n",
       "      <td>10248</td>\n",
       "      <td>VINET</td>\n",
       "      <td>5</td>\n",
       "      <td>2012-07-04</td>\n",
       "      <td>2012-08-01</td>\n",
       "      <td>2012-07-16</td>\n",
       "      <td>3</td>\n",
       "      <td>32.38</td>\n",
       "      <td>Vins et alcools Chevalier</td>\n",
       "      <td>59 rue de l'Abbaye</td>\n",
       "      <td>Reims</td>\n",
       "      <td>Western Europe</td>\n",
       "      <td>51100</td>\n",
       "      <td>France</td>\n",
       "    </tr>\n",
       "    <tr>\n",
       "      <th>1</th>\n",
       "      <td>10248/42</td>\n",
       "      <td>10248</td>\n",
       "      <td>42</td>\n",
       "      <td>9.8</td>\n",
       "      <td>10</td>\n",
       "      <td>0.0</td>\n",
       "      <td>10248</td>\n",
       "      <td>VINET</td>\n",
       "      <td>5</td>\n",
       "      <td>2012-07-04</td>\n",
       "      <td>2012-08-01</td>\n",
       "      <td>2012-07-16</td>\n",
       "      <td>3</td>\n",
       "      <td>32.38</td>\n",
       "      <td>Vins et alcools Chevalier</td>\n",
       "      <td>59 rue de l'Abbaye</td>\n",
       "      <td>Reims</td>\n",
       "      <td>Western Europe</td>\n",
       "      <td>51100</td>\n",
       "      <td>France</td>\n",
       "    </tr>\n",
       "    <tr>\n",
       "      <th>2</th>\n",
       "      <td>10248/72</td>\n",
       "      <td>10248</td>\n",
       "      <td>72</td>\n",
       "      <td>34.8</td>\n",
       "      <td>5</td>\n",
       "      <td>0.0</td>\n",
       "      <td>10248</td>\n",
       "      <td>VINET</td>\n",
       "      <td>5</td>\n",
       "      <td>2012-07-04</td>\n",
       "      <td>2012-08-01</td>\n",
       "      <td>2012-07-16</td>\n",
       "      <td>3</td>\n",
       "      <td>32.38</td>\n",
       "      <td>Vins et alcools Chevalier</td>\n",
       "      <td>59 rue de l'Abbaye</td>\n",
       "      <td>Reims</td>\n",
       "      <td>Western Europe</td>\n",
       "      <td>51100</td>\n",
       "      <td>France</td>\n",
       "    </tr>\n",
       "    <tr>\n",
       "      <th>3</th>\n",
       "      <td>10249/14</td>\n",
       "      <td>10249</td>\n",
       "      <td>14</td>\n",
       "      <td>18.6</td>\n",
       "      <td>9</td>\n",
       "      <td>0.0</td>\n",
       "      <td>10249</td>\n",
       "      <td>TOMSP</td>\n",
       "      <td>6</td>\n",
       "      <td>2012-07-05</td>\n",
       "      <td>2012-08-16</td>\n",
       "      <td>2012-07-10</td>\n",
       "      <td>1</td>\n",
       "      <td>11.61</td>\n",
       "      <td>Toms Spezialitäten</td>\n",
       "      <td>Luisenstr. 48</td>\n",
       "      <td>Münster</td>\n",
       "      <td>Western Europe</td>\n",
       "      <td>44087</td>\n",
       "      <td>Germany</td>\n",
       "    </tr>\n",
       "    <tr>\n",
       "      <th>4</th>\n",
       "      <td>10249/51</td>\n",
       "      <td>10249</td>\n",
       "      <td>51</td>\n",
       "      <td>42.4</td>\n",
       "      <td>40</td>\n",
       "      <td>0.0</td>\n",
       "      <td>10249</td>\n",
       "      <td>TOMSP</td>\n",
       "      <td>6</td>\n",
       "      <td>2012-07-05</td>\n",
       "      <td>2012-08-16</td>\n",
       "      <td>2012-07-10</td>\n",
       "      <td>1</td>\n",
       "      <td>11.61</td>\n",
       "      <td>Toms Spezialitäten</td>\n",
       "      <td>Luisenstr. 48</td>\n",
       "      <td>Münster</td>\n",
       "      <td>Western Europe</td>\n",
       "      <td>44087</td>\n",
       "      <td>Germany</td>\n",
       "    </tr>\n",
       "  </tbody>\n",
       "</table>\n",
       "</div>"
      ],
      "text/plain": [
       "         Id  OrderId  ProductId  UnitPrice  Quantity  Discount     Id  \\\n",
       "0  10248/11    10248         11       14.0        12       0.0  10248   \n",
       "1  10248/42    10248         42        9.8        10       0.0  10248   \n",
       "2  10248/72    10248         72       34.8         5       0.0  10248   \n",
       "3  10249/14    10249         14       18.6         9       0.0  10249   \n",
       "4  10249/51    10249         51       42.4        40       0.0  10249   \n",
       "\n",
       "  CustomerId  EmployeeId   OrderDate RequiredDate ShippedDate  ShipVia  \\\n",
       "0      VINET           5  2012-07-04   2012-08-01  2012-07-16        3   \n",
       "1      VINET           5  2012-07-04   2012-08-01  2012-07-16        3   \n",
       "2      VINET           5  2012-07-04   2012-08-01  2012-07-16        3   \n",
       "3      TOMSP           6  2012-07-05   2012-08-16  2012-07-10        1   \n",
       "4      TOMSP           6  2012-07-05   2012-08-16  2012-07-10        1   \n",
       "\n",
       "   Freight                   ShipName         ShipAddress ShipCity  \\\n",
       "0    32.38  Vins et alcools Chevalier  59 rue de l'Abbaye    Reims   \n",
       "1    32.38  Vins et alcools Chevalier  59 rue de l'Abbaye    Reims   \n",
       "2    32.38  Vins et alcools Chevalier  59 rue de l'Abbaye    Reims   \n",
       "3    11.61         Toms Spezialitäten       Luisenstr. 48  Münster   \n",
       "4    11.61         Toms Spezialitäten       Luisenstr. 48  Münster   \n",
       "\n",
       "       ShipRegion ShipPostalCode ShipCountry  \n",
       "0  Western Europe          51100      France  \n",
       "1  Western Europe          51100      France  \n",
       "2  Western Europe          51100      France  \n",
       "3  Western Europe          44087     Germany  \n",
       "4  Western Europe          44087     Germany  "
      ]
     },
     "execution_count": 32,
     "metadata": {},
     "output_type": "execute_result"
    }
   ],
   "source": [
    "df1.head()"
   ]
  },
  {
   "cell_type": "code",
   "execution_count": 33,
   "metadata": {},
   "outputs": [],
   "source": [
    "df1['Revenue'] = df1.UnitPrice * df1.Quantity * (1-df1.Discount) #creating the Revenue column"
   ]
  },
  {
   "cell_type": "code",
   "execution_count": 34,
   "metadata": {},
   "outputs": [
    {
     "data": {
      "text/html": [
       "<div>\n",
       "<style scoped>\n",
       "    .dataframe tbody tr th:only-of-type {\n",
       "        vertical-align: middle;\n",
       "    }\n",
       "\n",
       "    .dataframe tbody tr th {\n",
       "        vertical-align: top;\n",
       "    }\n",
       "\n",
       "    .dataframe thead th {\n",
       "        text-align: right;\n",
       "    }\n",
       "</style>\n",
       "<table border=\"1\" class=\"dataframe\">\n",
       "  <thead>\n",
       "    <tr style=\"text-align: right;\">\n",
       "      <th></th>\n",
       "      <th>Id</th>\n",
       "      <th>OrderId</th>\n",
       "      <th>ProductId</th>\n",
       "      <th>UnitPrice</th>\n",
       "      <th>Quantity</th>\n",
       "      <th>Discount</th>\n",
       "      <th>Id</th>\n",
       "      <th>CustomerId</th>\n",
       "      <th>EmployeeId</th>\n",
       "      <th>OrderDate</th>\n",
       "      <th>...</th>\n",
       "      <th>ShippedDate</th>\n",
       "      <th>ShipVia</th>\n",
       "      <th>Freight</th>\n",
       "      <th>ShipName</th>\n",
       "      <th>ShipAddress</th>\n",
       "      <th>ShipCity</th>\n",
       "      <th>ShipRegion</th>\n",
       "      <th>ShipPostalCode</th>\n",
       "      <th>ShipCountry</th>\n",
       "      <th>Revenue</th>\n",
       "    </tr>\n",
       "  </thead>\n",
       "  <tbody>\n",
       "    <tr>\n",
       "      <th>0</th>\n",
       "      <td>10248/11</td>\n",
       "      <td>10248</td>\n",
       "      <td>11</td>\n",
       "      <td>14.0</td>\n",
       "      <td>12</td>\n",
       "      <td>0.0</td>\n",
       "      <td>10248</td>\n",
       "      <td>VINET</td>\n",
       "      <td>5</td>\n",
       "      <td>2012-07-04</td>\n",
       "      <td>...</td>\n",
       "      <td>2012-07-16</td>\n",
       "      <td>3</td>\n",
       "      <td>32.38</td>\n",
       "      <td>Vins et alcools Chevalier</td>\n",
       "      <td>59 rue de l'Abbaye</td>\n",
       "      <td>Reims</td>\n",
       "      <td>Western Europe</td>\n",
       "      <td>51100</td>\n",
       "      <td>France</td>\n",
       "      <td>168.0</td>\n",
       "    </tr>\n",
       "    <tr>\n",
       "      <th>1</th>\n",
       "      <td>10248/42</td>\n",
       "      <td>10248</td>\n",
       "      <td>42</td>\n",
       "      <td>9.8</td>\n",
       "      <td>10</td>\n",
       "      <td>0.0</td>\n",
       "      <td>10248</td>\n",
       "      <td>VINET</td>\n",
       "      <td>5</td>\n",
       "      <td>2012-07-04</td>\n",
       "      <td>...</td>\n",
       "      <td>2012-07-16</td>\n",
       "      <td>3</td>\n",
       "      <td>32.38</td>\n",
       "      <td>Vins et alcools Chevalier</td>\n",
       "      <td>59 rue de l'Abbaye</td>\n",
       "      <td>Reims</td>\n",
       "      <td>Western Europe</td>\n",
       "      <td>51100</td>\n",
       "      <td>France</td>\n",
       "      <td>98.0</td>\n",
       "    </tr>\n",
       "    <tr>\n",
       "      <th>2</th>\n",
       "      <td>10248/72</td>\n",
       "      <td>10248</td>\n",
       "      <td>72</td>\n",
       "      <td>34.8</td>\n",
       "      <td>5</td>\n",
       "      <td>0.0</td>\n",
       "      <td>10248</td>\n",
       "      <td>VINET</td>\n",
       "      <td>5</td>\n",
       "      <td>2012-07-04</td>\n",
       "      <td>...</td>\n",
       "      <td>2012-07-16</td>\n",
       "      <td>3</td>\n",
       "      <td>32.38</td>\n",
       "      <td>Vins et alcools Chevalier</td>\n",
       "      <td>59 rue de l'Abbaye</td>\n",
       "      <td>Reims</td>\n",
       "      <td>Western Europe</td>\n",
       "      <td>51100</td>\n",
       "      <td>France</td>\n",
       "      <td>174.0</td>\n",
       "    </tr>\n",
       "    <tr>\n",
       "      <th>3</th>\n",
       "      <td>10249/14</td>\n",
       "      <td>10249</td>\n",
       "      <td>14</td>\n",
       "      <td>18.6</td>\n",
       "      <td>9</td>\n",
       "      <td>0.0</td>\n",
       "      <td>10249</td>\n",
       "      <td>TOMSP</td>\n",
       "      <td>6</td>\n",
       "      <td>2012-07-05</td>\n",
       "      <td>...</td>\n",
       "      <td>2012-07-10</td>\n",
       "      <td>1</td>\n",
       "      <td>11.61</td>\n",
       "      <td>Toms Spezialitäten</td>\n",
       "      <td>Luisenstr. 48</td>\n",
       "      <td>Münster</td>\n",
       "      <td>Western Europe</td>\n",
       "      <td>44087</td>\n",
       "      <td>Germany</td>\n",
       "      <td>167.4</td>\n",
       "    </tr>\n",
       "    <tr>\n",
       "      <th>4</th>\n",
       "      <td>10249/51</td>\n",
       "      <td>10249</td>\n",
       "      <td>51</td>\n",
       "      <td>42.4</td>\n",
       "      <td>40</td>\n",
       "      <td>0.0</td>\n",
       "      <td>10249</td>\n",
       "      <td>TOMSP</td>\n",
       "      <td>6</td>\n",
       "      <td>2012-07-05</td>\n",
       "      <td>...</td>\n",
       "      <td>2012-07-10</td>\n",
       "      <td>1</td>\n",
       "      <td>11.61</td>\n",
       "      <td>Toms Spezialitäten</td>\n",
       "      <td>Luisenstr. 48</td>\n",
       "      <td>Münster</td>\n",
       "      <td>Western Europe</td>\n",
       "      <td>44087</td>\n",
       "      <td>Germany</td>\n",
       "      <td>1696.0</td>\n",
       "    </tr>\n",
       "  </tbody>\n",
       "</table>\n",
       "<p>5 rows × 21 columns</p>\n",
       "</div>"
      ],
      "text/plain": [
       "         Id  OrderId  ProductId  UnitPrice  Quantity  Discount     Id  \\\n",
       "0  10248/11    10248         11       14.0        12       0.0  10248   \n",
       "1  10248/42    10248         42        9.8        10       0.0  10248   \n",
       "2  10248/72    10248         72       34.8         5       0.0  10248   \n",
       "3  10249/14    10249         14       18.6         9       0.0  10249   \n",
       "4  10249/51    10249         51       42.4        40       0.0  10249   \n",
       "\n",
       "  CustomerId  EmployeeId   OrderDate   ...   ShippedDate ShipVia  Freight  \\\n",
       "0      VINET           5  2012-07-04   ...    2012-07-16       3    32.38   \n",
       "1      VINET           5  2012-07-04   ...    2012-07-16       3    32.38   \n",
       "2      VINET           5  2012-07-04   ...    2012-07-16       3    32.38   \n",
       "3      TOMSP           6  2012-07-05   ...    2012-07-10       1    11.61   \n",
       "4      TOMSP           6  2012-07-05   ...    2012-07-10       1    11.61   \n",
       "\n",
       "                    ShipName         ShipAddress ShipCity      ShipRegion  \\\n",
       "0  Vins et alcools Chevalier  59 rue de l'Abbaye    Reims  Western Europe   \n",
       "1  Vins et alcools Chevalier  59 rue de l'Abbaye    Reims  Western Europe   \n",
       "2  Vins et alcools Chevalier  59 rue de l'Abbaye    Reims  Western Europe   \n",
       "3         Toms Spezialitäten       Luisenstr. 48  Münster  Western Europe   \n",
       "4         Toms Spezialitäten       Luisenstr. 48  Münster  Western Europe   \n",
       "\n",
       "  ShipPostalCode ShipCountry Revenue  \n",
       "0          51100      France   168.0  \n",
       "1          51100      France    98.0  \n",
       "2          51100      France   174.0  \n",
       "3          44087     Germany   167.4  \n",
       "4          44087     Germany  1696.0  \n",
       "\n",
       "[5 rows x 21 columns]"
      ]
     },
     "execution_count": 34,
     "metadata": {},
     "output_type": "execute_result"
    }
   ],
   "source": [
    "df1.head()"
   ]
  },
  {
   "cell_type": "code",
   "execution_count": 35,
   "metadata": {},
   "outputs": [
    {
     "data": {
      "text/plain": [
       "Text(0, 0.5, 'Total Revenue Generated')"
      ]
     },
     "execution_count": 35,
     "metadata": {},
     "output_type": "execute_result"
    },
    {
     "data": {
      "image/png": "[encoded data removed]",
      "text/plain": [
       "<Figure size 432x288 with 1 Axes>"
      ]
     },
     "metadata": {
      "needs_background": "light"
     },
     "output_type": "display_data"
    }
   ],
   "source": [
    "plt.bar(df1.EmployeeId,df1.Revenue) #bar chart comparing total revenue by employee\n",
    "plt.title('Total Revenue per Sales Rep')\n",
    "plt.xlabel('Sales Rep Unique Id')\n",
    "plt.ylabel('Total Revenue Generated')"
   ]
  },
  {
   "cell_type": "code",
   "execution_count": 36,
   "metadata": {},
   "outputs": [],
   "source": [
    "emp_key = list(df1.EmployeeId.unique()) #similar to the above insights, i create a dictionary with the employee as the key and all their revenues as values\n",
    "emp_dict = dict()\n",
    "for key in emp_key:\n",
    "    emp_dict[key] = None\n",
    "    va = df1.Revenue[df1.EmployeeId==key]\n",
    "    emp_dict[key] = va\n",
    "emp_dict['All']=df1.Revenue"
   ]
  },
  {
   "cell_type": "code",
   "execution_count": 37,
   "metadata": {},
   "outputs": [
    {
     "name": "stdout",
     "output_type": "stream",
     "text": [
      "5 Mean Revenue: 587.9682264957265\n",
      "6 Mean Revenue: 439.95910416666675\n",
      "4 Mean Revenue: 554.5020142857143\n",
      "3 Mean Revenue: 631.8157102803739\n",
      "9 Mean Revenue: 722.5052943925234\n",
      "1 Mean Revenue: 556.833636231884\n",
      "8 Mean Revenue: 487.9318365384616\n",
      "2 Mean Revenue: 691.0280290456432\n",
      "7 Mean Revenue: 707.7740625\n",
      "All Mean Revenue: 587.374960324826\n"
     ]
    }
   ],
   "source": [
    "for key in emp_dict.keys():\n",
    "    print(key,'Mean Revenue:',emp_dict[key].mean())"
   ]
  },
  {
   "cell_type": "markdown",
   "metadata": {},
   "source": [
    "As we can see from the above bar chart showing revenue generated per sales representative, and the mean revenue generated that there is a difference between some representatives and the total mean revenue generated. I will be running a two sample t test comparing each rep to the total rep score to see if any of these differences is significant."
   ]
  },
  {
   "cell_type": "code",
   "execution_count": 38,
   "metadata": {},
   "outputs": [
    {
     "name": "stdout",
     "output_type": "stream",
     "text": [
      "5 : Ttest_indResult(statistic=0.0064877833372402015, pvalue=0.9948241042354075)\n",
      "6 : Ttest_indResult(statistic=-1.948142856060304, pvalue=0.051518257670220786)\n",
      "4 : Ttest_indResult(statistic=-0.6496215214175025, pvalue=0.5159947154419077)\n",
      "3 : Ttest_indResult(statistic=0.7615617721896389, pvalue=0.4463941850901262)\n",
      "9 : Ttest_indResult(statistic=1.3804481239369464, pvalue=0.16758522714021196)\n",
      "1 : Ttest_indResult(statistic=-0.5372945809537059, pvalue=0.5911120035649866)\n",
      "8 : Ttest_indResult(statistic=-1.6301047353075346, pvalue=0.10320987793515729)\n",
      "2 : Ttest_indResult(statistic=1.521125075954147, pvalue=0.12836051426188394)\n",
      "7 : Ttest_indResult(statistic=1.5550444292973757, pvalue=0.12007135650335489)\n",
      "All : Ttest_indResult(statistic=0.0, pvalue=1.0)\n"
     ]
    }
   ],
   "source": [
    "for keys in emp_dict.keys():\n",
    "    print(keys,':',stats.ttest_ind(emp_dict[keys], emp_dict['All']))"
   ]
  },
  {
   "cell_type": "markdown",
   "metadata": {},
   "source": [
    "As we can see from the above P-value score for each scenario compared to our alpha of 0.05, there is no statistical significance in sales rep's sales records compared to the total.\n",
    "\n",
    "As for the business, we do not know at this point whether total sales for sales reps is efficient for the company, but the different in revenue generated between the sales reps is not enough to conclude that one sales rep is a stand out. We can start looking at potential incentive programs for sales reps to increase the total bottom line revenue generated."
   ]
  },
  {
   "cell_type": "markdown",
   "metadata": {},
   "source": [
    "## Summary/Recommendations\n",
    "\n",
    "Based on the multiple analysis above, I have come up with four conclusions and applicable action steps:\n",
    "\n",
    "1. Discounts are statistically significant in increasing quantity of products purchased by customers.\n",
    "    \n",
    "    **Action Step**: Northwind should look into pricing strategies to continue increasing revenue on products by including a discount rate.\n",
    "    \n",
    "\n",
    "2. It does not matter at the product level where discounts are implemented to see an improvement in quantity of products purchased by customers.\n",
    "   \n",
    "   **Action Step**: Like mentioned above Northwind should focus more on the pricing strategies for all products, and not necessarily target a particular product category, as we could not find evidence that this would be effective.\n",
    "   \n",
    "\n",
    "3. a) Seafood from a revenue perspective is selling at a rate less than the company average.\n",
    "\n",
    "    **Action Step**: Revamp the seafood marketing strategy to help find improvements in sales of seafood. \n",
    "    \n",
    "    b) Meat/Poultry from a revenue perspective is salling at a higher rate than the company average.\n",
    "    \n",
    "    **Action Step**: Look towards other product categories to use similar marketing strategies as the Meat/Poultry products, or look into packaging deals with the Meat/Poultry products as a potential selling strategy.\n",
    "    \n",
    "    \n",
    "4. There is no significant difference between sales reps on their revenue produced for the company.\n",
    "\n",
    "    **Action Step**: Potentially look into sales rep incentive programs to improve sales revenue across the board. Or look into gathering competitor sales data to see whether our reps are lacking in revenue produced."
   ]
  },
  {
   "cell_type": "markdown",
   "metadata": {},
   "source": [
    "## Follow Ups"
   ]
  },
  {
   "cell_type": "markdown",
   "metadata": {},
   "source": [
    "Given more time for analysis, and the available data provided in the SQL database, I would like to look further into the following business questions:\n",
    "\n",
    "1. Is there a significance in suppliers that provide the most products sold to customers?\n",
    "\n",
    "2. Is there a significance in selling territories that could provide us information on where we are seeing great sales or locations where we should provide more focus on marketing?\n",
    "\n",
    "3. Is there a location where it might make sense to open up a new distribution chain or supplier?"
   ]
  },
  {
   "cell_type": "markdown",
   "metadata": {},
   "source": [
    "Blog URL: https://rondo24.github.io/northwind_hypothesis_testing"
   ]
  },
  {
   "cell_type": "code",
   "execution_count": null,
   "metadata": {},
   "outputs": [],
   "source": []
  }
 ],
 "metadata": {
  "kernelspec": {
   "display_name": "learn-env",
   "language": "python",
   "name": "learn-env"
  },
  "language_info": {
   "codemirror_mode": {
    "name": "ipython",
    "version": 3
   },
   "file_extension": ".py",
   "mimetype": "text/x-python",
   "name": "python",
   "nbconvert_exporter": "python",
   "pygments_lexer": "ipython3",
   "version": "3.6.6"
  }
 },
 "nbformat": 4,
 "nbformat_minor": 2
}
