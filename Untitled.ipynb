{
 "cells": [
  {
   "cell_type": "markdown",
   "metadata": {},
   "source": [
    "<img src='Northwind_ERD.png'>"
   ]
  },
  {
   "cell_type": "code",
   "execution_count": 30,
   "metadata": {},
   "outputs": [],
   "source": [
    "import sqlalchemy\n",
    "import pandas as pd\n",
    "from sqlalchemy import create_engine, inspect\n",
    "import numpy as np\n",
    "import matplotlib.pyplot as plt\n",
    "%matplotlib inline"
   ]
  },
  {
   "cell_type": "code",
   "execution_count": 12,
   "metadata": {},
   "outputs": [
    {
     "data": {
      "text/plain": [
       "['Category',\n",
       " 'Customer',\n",
       " 'CustomerCustomerDemo',\n",
       " 'CustomerDemographic',\n",
       " 'Employee',\n",
       " 'EmployeeTerritory',\n",
       " 'Order',\n",
       " 'OrderDetail',\n",
       " 'Product',\n",
       " 'Region',\n",
       " 'Shipper',\n",
       " 'Supplier',\n",
       " 'Territory']"
      ]
     },
     "execution_count": 12,
     "metadata": {},
     "output_type": "execute_result"
    }
   ],
   "source": [
    "engine = create_engine('sqlite:///Northwind_small.sqlite')\n",
    "inspector = inspect(engine)\n",
    "inspector.get_table_names()"
   ]
  },
  {
   "cell_type": "code",
   "execution_count": null,
   "metadata": {},
   "outputs": [],
   "source": [
    "for rank in "
   ]
  },
  {
   "cell_type": "code",
   "execution_count": 213,
   "metadata": {},
   "outputs": [
    {
     "name": "stdout",
     "output_type": "stream",
     "text": [
      "31    Mascarpone Fabioli\n",
      "Name: ProductName, dtype: object\n",
      "13    Tofu\n",
      "Name: ProductName, dtype: object\n",
      "29    Nord-Ost Matjeshering\n",
      "Name: ProductName, dtype: object\n",
      "38    Chartreuse verte\n",
      "Name: ProductName, dtype: object\n",
      "37    Côte de Blaye\n",
      "Name: ProductName, dtype: object\n"
     ]
    }
   ],
   "source": [
    "df1 = pd.read_sql_query(\"select * from [Product]\",engine)\n",
    "lst = [32,14,30,39,38]\n",
    "for rank in lst:\n",
    "    print(df1.ProductName[df1.Id == rank])"
   ]
  },
  {
   "cell_type": "code",
   "execution_count": 15,
   "metadata": {},
   "outputs": [
    {
     "data": {
      "text/html": [
       "<div>\n",
       "<style scoped>\n",
       "    .dataframe tbody tr th:only-of-type {\n",
       "        vertical-align: middle;\n",
       "    }\n",
       "\n",
       "    .dataframe tbody tr th {\n",
       "        vertical-align: top;\n",
       "    }\n",
       "\n",
       "    .dataframe thead th {\n",
       "        text-align: right;\n",
       "    }\n",
       "</style>\n",
       "<table border=\"1\" class=\"dataframe\">\n",
       "  <thead>\n",
       "    <tr style=\"text-align: right;\">\n",
       "      <th></th>\n",
       "      <th>Id</th>\n",
       "      <th>OrderId</th>\n",
       "      <th>ProductId</th>\n",
       "      <th>UnitPrice</th>\n",
       "      <th>Quantity</th>\n",
       "      <th>Discount</th>\n",
       "    </tr>\n",
       "  </thead>\n",
       "  <tbody>\n",
       "    <tr>\n",
       "      <th>0</th>\n",
       "      <td>10248/11</td>\n",
       "      <td>10248</td>\n",
       "      <td>11</td>\n",
       "      <td>14.0</td>\n",
       "      <td>12</td>\n",
       "      <td>0.0</td>\n",
       "    </tr>\n",
       "    <tr>\n",
       "      <th>1</th>\n",
       "      <td>10248/42</td>\n",
       "      <td>10248</td>\n",
       "      <td>42</td>\n",
       "      <td>9.8</td>\n",
       "      <td>10</td>\n",
       "      <td>0.0</td>\n",
       "    </tr>\n",
       "    <tr>\n",
       "      <th>2</th>\n",
       "      <td>10248/72</td>\n",
       "      <td>10248</td>\n",
       "      <td>72</td>\n",
       "      <td>34.8</td>\n",
       "      <td>5</td>\n",
       "      <td>0.0</td>\n",
       "    </tr>\n",
       "    <tr>\n",
       "      <th>3</th>\n",
       "      <td>10249/14</td>\n",
       "      <td>10249</td>\n",
       "      <td>14</td>\n",
       "      <td>18.6</td>\n",
       "      <td>9</td>\n",
       "      <td>0.0</td>\n",
       "    </tr>\n",
       "    <tr>\n",
       "      <th>4</th>\n",
       "      <td>10249/51</td>\n",
       "      <td>10249</td>\n",
       "      <td>51</td>\n",
       "      <td>42.4</td>\n",
       "      <td>40</td>\n",
       "      <td>0.0</td>\n",
       "    </tr>\n",
       "  </tbody>\n",
       "</table>\n",
       "</div>"
      ],
      "text/plain": [
       "         Id  OrderId  ProductId  UnitPrice  Quantity  Discount\n",
       "0  10248/11    10248         11       14.0        12       0.0\n",
       "1  10248/42    10248         42        9.8        10       0.0\n",
       "2  10248/72    10248         72       34.8         5       0.0\n",
       "3  10249/14    10249         14       18.6         9       0.0\n",
       "4  10249/51    10249         51       42.4        40       0.0"
      ]
     },
     "execution_count": 15,
     "metadata": {},
     "output_type": "execute_result"
    }
   ],
   "source": [
    "df = pd.read_sql_query(\"select * from [OrderDetail] \",engine)\n",
    "df.head()"
   ]
  },
  {
   "cell_type": "code",
   "execution_count": 16,
   "metadata": {},
   "outputs": [
    {
     "name": "stdout",
     "output_type": "stream",
     "text": [
      "<class 'pandas.core.frame.DataFrame'>\n",
      "RangeIndex: 2155 entries, 0 to 2154\n",
      "Data columns (total 6 columns):\n",
      "Id           2155 non-null object\n",
      "OrderId      2155 non-null int64\n",
      "ProductId    2155 non-null int64\n",
      "UnitPrice    2155 non-null float64\n",
      "Quantity     2155 non-null int64\n",
      "Discount     2155 non-null float64\n",
      "dtypes: float64(2), int64(3), object(1)\n",
      "memory usage: 101.1+ KB\n"
     ]
    }
   ],
   "source": [
    "df.info()"
   ]
  },
  {
   "cell_type": "code",
   "execution_count": 29,
   "metadata": {},
   "outputs": [
    {
     "data": {
      "text/html": [
       "<div>\n",
       "<style scoped>\n",
       "    .dataframe tbody tr th:only-of-type {\n",
       "        vertical-align: middle;\n",
       "    }\n",
       "\n",
       "    .dataframe tbody tr th {\n",
       "        vertical-align: top;\n",
       "    }\n",
       "\n",
       "    .dataframe thead th {\n",
       "        text-align: right;\n",
       "    }\n",
       "</style>\n",
       "<table border=\"1\" class=\"dataframe\">\n",
       "  <thead>\n",
       "    <tr style=\"text-align: right;\">\n",
       "      <th></th>\n",
       "      <th>OrderId</th>\n",
       "      <th>ProductId</th>\n",
       "      <th>UnitPrice</th>\n",
       "      <th>Quantity</th>\n",
       "      <th>Discount</th>\n",
       "    </tr>\n",
       "  </thead>\n",
       "  <tbody>\n",
       "    <tr>\n",
       "      <th>count</th>\n",
       "      <td>2155.000000</td>\n",
       "      <td>2155.000000</td>\n",
       "      <td>2155.000000</td>\n",
       "      <td>2155.000000</td>\n",
       "      <td>2155.000000</td>\n",
       "    </tr>\n",
       "    <tr>\n",
       "      <th>mean</th>\n",
       "      <td>10659.375870</td>\n",
       "      <td>40.793039</td>\n",
       "      <td>26.218520</td>\n",
       "      <td>23.812993</td>\n",
       "      <td>0.056167</td>\n",
       "    </tr>\n",
       "    <tr>\n",
       "      <th>std</th>\n",
       "      <td>241.378032</td>\n",
       "      <td>22.159019</td>\n",
       "      <td>29.827418</td>\n",
       "      <td>19.022047</td>\n",
       "      <td>0.083450</td>\n",
       "    </tr>\n",
       "    <tr>\n",
       "      <th>min</th>\n",
       "      <td>10248.000000</td>\n",
       "      <td>1.000000</td>\n",
       "      <td>2.000000</td>\n",
       "      <td>1.000000</td>\n",
       "      <td>0.000000</td>\n",
       "    </tr>\n",
       "    <tr>\n",
       "      <th>25%</th>\n",
       "      <td>10451.000000</td>\n",
       "      <td>22.000000</td>\n",
       "      <td>12.000000</td>\n",
       "      <td>10.000000</td>\n",
       "      <td>0.000000</td>\n",
       "    </tr>\n",
       "    <tr>\n",
       "      <th>50%</th>\n",
       "      <td>10657.000000</td>\n",
       "      <td>41.000000</td>\n",
       "      <td>18.400000</td>\n",
       "      <td>20.000000</td>\n",
       "      <td>0.000000</td>\n",
       "    </tr>\n",
       "    <tr>\n",
       "      <th>75%</th>\n",
       "      <td>10862.500000</td>\n",
       "      <td>60.000000</td>\n",
       "      <td>32.000000</td>\n",
       "      <td>30.000000</td>\n",
       "      <td>0.100000</td>\n",
       "    </tr>\n",
       "    <tr>\n",
       "      <th>max</th>\n",
       "      <td>11077.000000</td>\n",
       "      <td>77.000000</td>\n",
       "      <td>263.500000</td>\n",
       "      <td>130.000000</td>\n",
       "      <td>0.250000</td>\n",
       "    </tr>\n",
       "  </tbody>\n",
       "</table>\n",
       "</div>"
      ],
      "text/plain": [
       "            OrderId    ProductId    UnitPrice     Quantity     Discount\n",
       "count   2155.000000  2155.000000  2155.000000  2155.000000  2155.000000\n",
       "mean   10659.375870    40.793039    26.218520    23.812993     0.056167\n",
       "std      241.378032    22.159019    29.827418    19.022047     0.083450\n",
       "min    10248.000000     1.000000     2.000000     1.000000     0.000000\n",
       "25%    10451.000000    22.000000    12.000000    10.000000     0.000000\n",
       "50%    10657.000000    41.000000    18.400000    20.000000     0.000000\n",
       "75%    10862.500000    60.000000    32.000000    30.000000     0.100000\n",
       "max    11077.000000    77.000000   263.500000   130.000000     0.250000"
      ]
     },
     "execution_count": 29,
     "metadata": {},
     "output_type": "execute_result"
    }
   ],
   "source": [
    "df.describe()"
   ]
  },
  {
   "cell_type": "code",
   "execution_count": 28,
   "metadata": {},
   "outputs": [
    {
     "data": {
      "text/plain": [
       "830"
      ]
     },
     "execution_count": 28,
     "metadata": {},
     "output_type": "execute_result"
    }
   ],
   "source": [
    "df.OrderId.value_counts().count()"
   ]
  },
  {
   "cell_type": "code",
   "execution_count": 44,
   "metadata": {},
   "outputs": [],
   "source": [
    "cont_var = dict()\n",
    "keys = ['UnitPrice','Quantity']\n",
    "for key in keys:\n",
    "    cont_var[key]=None\n",
    "    val = df[key]\n",
    "    cont_var[key]=val"
   ]
  },
  {
   "cell_type": "code",
   "execution_count": 45,
   "metadata": {},
   "outputs": [
    {
     "data": {
      "image/png": "[encoded data removed]",
      "text/plain": [
       "<Figure size 432x288 with 1 Axes>"
      ]
     },
     "metadata": {
      "needs_background": "light"
     },
     "output_type": "display_data"
    },
    {
     "data": {
      "image/png": "[encoded data removed]",
      "text/plain": [
       "<Figure size 432x288 with 1 Axes>"
      ]
     },
     "metadata": {
      "needs_background": "light"
     },
     "output_type": "display_data"
    }
   ],
   "source": [
    "for category in cont_var.keys():\n",
    "    plt.figure()\n",
    "    plt.hist(cont_var[category],bins=20)\n",
    "    plt.title(category)"
   ]
  },
  {
   "cell_type": "code",
   "execution_count": 47,
   "metadata": {},
   "outputs": [
    {
     "data": {
      "image/png": "[encoded data removed]",
      "text/plain": [
       "<Figure size 432x288 with 1 Axes>"
      ]
     },
     "metadata": {
      "needs_background": "light"
     },
     "output_type": "display_data"
    },
    {
     "data": {
      "image/png": "[encoded data removed]",
      "text/plain": [
       "<Figure size 432x288 with 1 Axes>"
      ]
     },
     "metadata": {
      "needs_background": "light"
     },
     "output_type": "display_data"
    }
   ],
   "source": [
    "for category in cont_var.keys():\n",
    "    plt.figure()\n",
    "    plt.boxplot(cont_var[category])\n",
    "    plt.title(category)"
   ]
  },
  {
   "cell_type": "code",
   "execution_count": 190,
   "metadata": {},
   "outputs": [
    {
     "data": {
      "text/plain": [
       "32    0.064935\n",
       "14    0.051948\n",
       "30    0.051948\n",
       "39    0.051948\n",
       "38    0.051948\n",
       "33    0.038961\n",
       "6     0.038961\n",
       "24    0.038961\n",
       "10    0.038961\n",
       "51    0.038961\n",
       "29    0.025974\n",
       "27    0.025974\n",
       "18    0.025974\n",
       "31    0.025974\n",
       "37    0.025974\n",
       "36    0.025974\n",
       "21    0.025974\n",
       "13    0.025974\n",
       "12    0.025974\n",
       "20    0.025974\n",
       "17    0.012987\n",
       "16    0.012987\n",
       "15    0.012987\n",
       "9     0.012987\n",
       "8     0.012987\n",
       "19    0.012987\n",
       "54    0.012987\n",
       "22    0.012987\n",
       "23    0.012987\n",
       "28    0.012987\n",
       "34    0.012987\n",
       "40    0.012987\n",
       "41    0.012987\n",
       "42    0.012987\n",
       "43    0.012987\n",
       "44    0.012987\n",
       "46    0.012987\n",
       "47    0.012987\n",
       "48    0.012987\n",
       "50    0.012987\n",
       "5     0.012987\n",
       "Name: count, dtype: float64"
      ]
     },
     "execution_count": 190,
     "metadata": {},
     "output_type": "execute_result"
    }
   ],
   "source": [
    "key = 'ProductId'\n",
    "table = pd.crosstab(index=df[key],columns='count')\n",
    "table['count'].value_counts(True)\n"
   ]
  },
  {
   "cell_type": "code",
   "execution_count": 173,
   "metadata": {},
   "outputs": [
    {
     "data": {
      "text/html": [
       "<div>\n",
       "<style scoped>\n",
       "    .dataframe tbody tr th:only-of-type {\n",
       "        vertical-align: middle;\n",
       "    }\n",
       "\n",
       "    .dataframe tbody tr th {\n",
       "        vertical-align: top;\n",
       "    }\n",
       "\n",
       "    .dataframe thead th {\n",
       "        text-align: right;\n",
       "    }\n",
       "</style>\n",
       "<table border=\"1\" class=\"dataframe\">\n",
       "  <thead>\n",
       "    <tr style=\"text-align: right;\">\n",
       "      <th></th>\n",
       "      <th>Id</th>\n",
       "      <th>OrderId</th>\n",
       "      <th>ProductId</th>\n",
       "      <th>UnitPrice</th>\n",
       "      <th>Quantity</th>\n",
       "      <th>Discount</th>\n",
       "    </tr>\n",
       "  </thead>\n",
       "  <tbody>\n",
       "    <tr>\n",
       "      <th>2130</th>\n",
       "      <td>11077/2</td>\n",
       "      <td>11077</td>\n",
       "      <td>2</td>\n",
       "      <td>19.00</td>\n",
       "      <td>24</td>\n",
       "      <td>0.20</td>\n",
       "    </tr>\n",
       "    <tr>\n",
       "      <th>2131</th>\n",
       "      <td>11077/3</td>\n",
       "      <td>11077</td>\n",
       "      <td>3</td>\n",
       "      <td>10.00</td>\n",
       "      <td>4</td>\n",
       "      <td>0.00</td>\n",
       "    </tr>\n",
       "    <tr>\n",
       "      <th>2132</th>\n",
       "      <td>11077/4</td>\n",
       "      <td>11077</td>\n",
       "      <td>4</td>\n",
       "      <td>22.00</td>\n",
       "      <td>1</td>\n",
       "      <td>0.00</td>\n",
       "    </tr>\n",
       "    <tr>\n",
       "      <th>2133</th>\n",
       "      <td>11077/6</td>\n",
       "      <td>11077</td>\n",
       "      <td>6</td>\n",
       "      <td>25.00</td>\n",
       "      <td>1</td>\n",
       "      <td>0.02</td>\n",
       "    </tr>\n",
       "    <tr>\n",
       "      <th>2134</th>\n",
       "      <td>11077/7</td>\n",
       "      <td>11077</td>\n",
       "      <td>7</td>\n",
       "      <td>30.00</td>\n",
       "      <td>1</td>\n",
       "      <td>0.05</td>\n",
       "    </tr>\n",
       "    <tr>\n",
       "      <th>2135</th>\n",
       "      <td>11077/8</td>\n",
       "      <td>11077</td>\n",
       "      <td>8</td>\n",
       "      <td>40.00</td>\n",
       "      <td>2</td>\n",
       "      <td>0.10</td>\n",
       "    </tr>\n",
       "    <tr>\n",
       "      <th>2136</th>\n",
       "      <td>11077/10</td>\n",
       "      <td>11077</td>\n",
       "      <td>10</td>\n",
       "      <td>31.00</td>\n",
       "      <td>1</td>\n",
       "      <td>0.00</td>\n",
       "    </tr>\n",
       "    <tr>\n",
       "      <th>2137</th>\n",
       "      <td>11077/12</td>\n",
       "      <td>11077</td>\n",
       "      <td>12</td>\n",
       "      <td>38.00</td>\n",
       "      <td>2</td>\n",
       "      <td>0.05</td>\n",
       "    </tr>\n",
       "    <tr>\n",
       "      <th>2138</th>\n",
       "      <td>11077/13</td>\n",
       "      <td>11077</td>\n",
       "      <td>13</td>\n",
       "      <td>6.00</td>\n",
       "      <td>4</td>\n",
       "      <td>0.00</td>\n",
       "    </tr>\n",
       "    <tr>\n",
       "      <th>2139</th>\n",
       "      <td>11077/14</td>\n",
       "      <td>11077</td>\n",
       "      <td>14</td>\n",
       "      <td>23.25</td>\n",
       "      <td>1</td>\n",
       "      <td>0.03</td>\n",
       "    </tr>\n",
       "    <tr>\n",
       "      <th>2140</th>\n",
       "      <td>11077/16</td>\n",
       "      <td>11077</td>\n",
       "      <td>16</td>\n",
       "      <td>17.45</td>\n",
       "      <td>2</td>\n",
       "      <td>0.03</td>\n",
       "    </tr>\n",
       "    <tr>\n",
       "      <th>2141</th>\n",
       "      <td>11077/20</td>\n",
       "      <td>11077</td>\n",
       "      <td>20</td>\n",
       "      <td>81.00</td>\n",
       "      <td>1</td>\n",
       "      <td>0.04</td>\n",
       "    </tr>\n",
       "    <tr>\n",
       "      <th>2142</th>\n",
       "      <td>11077/23</td>\n",
       "      <td>11077</td>\n",
       "      <td>23</td>\n",
       "      <td>9.00</td>\n",
       "      <td>2</td>\n",
       "      <td>0.00</td>\n",
       "    </tr>\n",
       "    <tr>\n",
       "      <th>2143</th>\n",
       "      <td>11077/32</td>\n",
       "      <td>11077</td>\n",
       "      <td>32</td>\n",
       "      <td>32.00</td>\n",
       "      <td>1</td>\n",
       "      <td>0.00</td>\n",
       "    </tr>\n",
       "    <tr>\n",
       "      <th>2144</th>\n",
       "      <td>11077/39</td>\n",
       "      <td>11077</td>\n",
       "      <td>39</td>\n",
       "      <td>18.00</td>\n",
       "      <td>2</td>\n",
       "      <td>0.05</td>\n",
       "    </tr>\n",
       "    <tr>\n",
       "      <th>2145</th>\n",
       "      <td>11077/41</td>\n",
       "      <td>11077</td>\n",
       "      <td>41</td>\n",
       "      <td>9.65</td>\n",
       "      <td>3</td>\n",
       "      <td>0.00</td>\n",
       "    </tr>\n",
       "    <tr>\n",
       "      <th>2146</th>\n",
       "      <td>11077/46</td>\n",
       "      <td>11077</td>\n",
       "      <td>46</td>\n",
       "      <td>12.00</td>\n",
       "      <td>3</td>\n",
       "      <td>0.02</td>\n",
       "    </tr>\n",
       "    <tr>\n",
       "      <th>2147</th>\n",
       "      <td>11077/52</td>\n",
       "      <td>11077</td>\n",
       "      <td>52</td>\n",
       "      <td>7.00</td>\n",
       "      <td>2</td>\n",
       "      <td>0.00</td>\n",
       "    </tr>\n",
       "    <tr>\n",
       "      <th>2148</th>\n",
       "      <td>11077/55</td>\n",
       "      <td>11077</td>\n",
       "      <td>55</td>\n",
       "      <td>24.00</td>\n",
       "      <td>2</td>\n",
       "      <td>0.00</td>\n",
       "    </tr>\n",
       "    <tr>\n",
       "      <th>2149</th>\n",
       "      <td>11077/60</td>\n",
       "      <td>11077</td>\n",
       "      <td>60</td>\n",
       "      <td>34.00</td>\n",
       "      <td>2</td>\n",
       "      <td>0.06</td>\n",
       "    </tr>\n",
       "    <tr>\n",
       "      <th>2150</th>\n",
       "      <td>11077/64</td>\n",
       "      <td>11077</td>\n",
       "      <td>64</td>\n",
       "      <td>33.25</td>\n",
       "      <td>2</td>\n",
       "      <td>0.03</td>\n",
       "    </tr>\n",
       "    <tr>\n",
       "      <th>2151</th>\n",
       "      <td>11077/66</td>\n",
       "      <td>11077</td>\n",
       "      <td>66</td>\n",
       "      <td>17.00</td>\n",
       "      <td>1</td>\n",
       "      <td>0.00</td>\n",
       "    </tr>\n",
       "    <tr>\n",
       "      <th>2152</th>\n",
       "      <td>11077/73</td>\n",
       "      <td>11077</td>\n",
       "      <td>73</td>\n",
       "      <td>15.00</td>\n",
       "      <td>2</td>\n",
       "      <td>0.01</td>\n",
       "    </tr>\n",
       "    <tr>\n",
       "      <th>2153</th>\n",
       "      <td>11077/75</td>\n",
       "      <td>11077</td>\n",
       "      <td>75</td>\n",
       "      <td>7.75</td>\n",
       "      <td>4</td>\n",
       "      <td>0.00</td>\n",
       "    </tr>\n",
       "    <tr>\n",
       "      <th>2154</th>\n",
       "      <td>11077/77</td>\n",
       "      <td>11077</td>\n",
       "      <td>77</td>\n",
       "      <td>13.00</td>\n",
       "      <td>2</td>\n",
       "      <td>0.00</td>\n",
       "    </tr>\n",
       "  </tbody>\n",
       "</table>\n",
       "</div>"
      ],
      "text/plain": [
       "            Id  OrderId  ProductId  UnitPrice  Quantity  Discount\n",
       "2130   11077/2    11077          2      19.00        24      0.20\n",
       "2131   11077/3    11077          3      10.00         4      0.00\n",
       "2132   11077/4    11077          4      22.00         1      0.00\n",
       "2133   11077/6    11077          6      25.00         1      0.02\n",
       "2134   11077/7    11077          7      30.00         1      0.05\n",
       "2135   11077/8    11077          8      40.00         2      0.10\n",
       "2136  11077/10    11077         10      31.00         1      0.00\n",
       "2137  11077/12    11077         12      38.00         2      0.05\n",
       "2138  11077/13    11077         13       6.00         4      0.00\n",
       "2139  11077/14    11077         14      23.25         1      0.03\n",
       "2140  11077/16    11077         16      17.45         2      0.03\n",
       "2141  11077/20    11077         20      81.00         1      0.04\n",
       "2142  11077/23    11077         23       9.00         2      0.00\n",
       "2143  11077/32    11077         32      32.00         1      0.00\n",
       "2144  11077/39    11077         39      18.00         2      0.05\n",
       "2145  11077/41    11077         41       9.65         3      0.00\n",
       "2146  11077/46    11077         46      12.00         3      0.02\n",
       "2147  11077/52    11077         52       7.00         2      0.00\n",
       "2148  11077/55    11077         55      24.00         2      0.00\n",
       "2149  11077/60    11077         60      34.00         2      0.06\n",
       "2150  11077/64    11077         64      33.25         2      0.03\n",
       "2151  11077/66    11077         66      17.00         1      0.00\n",
       "2152  11077/73    11077         73      15.00         2      0.01\n",
       "2153  11077/75    11077         75       7.75         4      0.00\n",
       "2154  11077/77    11077         77      13.00         2      0.00"
      ]
     },
     "execution_count": 173,
     "metadata": {},
     "output_type": "execute_result"
    }
   ],
   "source": [
    "key = 'OrderId'\n",
    "table = pd.crosstab(index=df[key],columns='count')\n",
    "table['count'].value_counts(normalize=True)\n"
   ]
  },
  {
   "cell_type": "code",
   "execution_count": 103,
   "metadata": {},
   "outputs": [],
   "source": [
    "cat = ['OrderId', 'ProductId', 'Discount']\n",
    "catd = dict()\n",
    "for key in cat:\n",
    "    catd[key] = None\n",
    "    val = df[key].sort_values()\n",
    "    catd[key]=val"
   ]
  },
  {
   "cell_type": "code",
   "execution_count": 119,
   "metadata": {},
   "outputs": [
    {
     "data": {
      "text/plain": [
       "2155"
      ]
     },
     "execution_count": 119,
     "metadata": {},
     "output_type": "execute_result"
    }
   ],
   "source": [
    "len(catd['OrderId'])"
   ]
  },
  {
   "cell_type": "code",
   "execution_count": 115,
   "metadata": {},
   "outputs": [
    {
     "data": {
      "text/plain": [
       "array([10248, 10249, 10250, 10251, 10252, 10253, 10254, 10255, 10256,\n",
       "       10257, 10258, 10259, 10260, 10261, 10262, 10263, 10264, 10265,\n",
       "       10266, 10267, 10268, 10269, 10270, 10271, 10272, 10273, 10274,\n",
       "       10275, 10276, 10277, 10278, 10279, 10280, 10281, 10282, 10283,\n",
       "       10284, 10285, 10286, 10287, 10288, 10289, 10290, 10291, 10292,\n",
       "       10293, 10294, 10295, 10296, 10297, 10298, 10299, 10300, 10301,\n",
       "       10302, 10303, 10304, 10305, 10306, 10307, 10308, 10309, 10310,\n",
       "       10311, 10312, 10313, 10314, 10315, 10316, 10317, 10318, 10319,\n",
       "       10320, 10321, 10322, 10323, 10324, 10325, 10326, 10327, 10328,\n",
       "       10329, 10330, 10331, 10332, 10333, 10334, 10335, 10336, 10337,\n",
       "       10338, 10339, 10340, 10341, 10342, 10343, 10344, 10345, 10346,\n",
       "       10347, 10348, 10349, 10350, 10351, 10352, 10353, 10354, 10355,\n",
       "       10356, 10357, 10358, 10359, 10360, 10361, 10362, 10363, 10364,\n",
       "       10365, 10366, 10367, 10368, 10369, 10370, 10371, 10372, 10373,\n",
       "       10374, 10375, 10376, 10377, 10378, 10379, 10380, 10381, 10382,\n",
       "       10383, 10384, 10385, 10386, 10387, 10388, 10389, 10390, 10391,\n",
       "       10392, 10393, 10394, 10395, 10396, 10397, 10398, 10399, 10400,\n",
       "       10401, 10402, 10403, 10404, 10405, 10406, 10407, 10408, 10409,\n",
       "       10410, 10411, 10412, 10413, 10414, 10415, 10416, 10417, 10418,\n",
       "       10419, 10420, 10421, 10422, 10423, 10424, 10425, 10426, 10427,\n",
       "       10428, 10429, 10430, 10431, 10432, 10433, 10434, 10435, 10436,\n",
       "       10437, 10438, 10439, 10440, 10441, 10442, 10443, 10444, 10445,\n",
       "       10446, 10447, 10448, 10449, 10450, 10451, 10452, 10453, 10454,\n",
       "       10455, 10456, 10457, 10458, 10459, 10460, 10461, 10462, 10463,\n",
       "       10464, 10465, 10466, 10467, 10468, 10469, 10470, 10471, 10472,\n",
       "       10473, 10474, 10475, 10476, 10477, 10478, 10479, 10480, 10481,\n",
       "       10482, 10483, 10484, 10485, 10486, 10487, 10488, 10489, 10490,\n",
       "       10491, 10492, 10493, 10494, 10495, 10496, 10497, 10498, 10499,\n",
       "       10500, 10501, 10502, 10503, 10504, 10505, 10506, 10507, 10508,\n",
       "       10509, 10510, 10511, 10512, 10513, 10514, 10515, 10516, 10517,\n",
       "       10518, 10519, 10520, 10521, 10522, 10523, 10524, 10525, 10526,\n",
       "       10527, 10528, 10529, 10530, 10531, 10532, 10533, 10534, 10535,\n",
       "       10536, 10537, 10538, 10539, 10540, 10541, 10542, 10543, 10544,\n",
       "       10545, 10546, 10547, 10548, 10549, 10550, 10551, 10552, 10553,\n",
       "       10554, 10555, 10556, 10557, 10558, 10559, 10560, 10561, 10562,\n",
       "       10563, 10564, 10565, 10566, 10567, 10568, 10569, 10570, 10571,\n",
       "       10572, 10573, 10574, 10575, 10576, 10577, 10578, 10579, 10580,\n",
       "       10581, 10582, 10583, 10584, 10585, 10586, 10587, 10588, 10589,\n",
       "       10590, 10591, 10592, 10593, 10594, 10595, 10596, 10597, 10598,\n",
       "       10599, 10600, 10601, 10602, 10603, 10604, 10605, 10606, 10607,\n",
       "       10608, 10609, 10610, 10611, 10612, 10613, 10614, 10615, 10616,\n",
       "       10617, 10618, 10619, 10620, 10621, 10622, 10623, 10624, 10625,\n",
       "       10626, 10627, 10628, 10629, 10630, 10631, 10632, 10633, 10634,\n",
       "       10635, 10636, 10637, 10638, 10639, 10640, 10641, 10642, 10643,\n",
       "       10644, 10645, 10646, 10647, 10648, 10649, 10650, 10651, 10652,\n",
       "       10653, 10654, 10655, 10656, 10657, 10658, 10659, 10660, 10661,\n",
       "       10662, 10663, 10664, 10665, 10666, 10667, 10668, 10669, 10670,\n",
       "       10671, 10672, 10673, 10674, 10675, 10676, 10677, 10678, 10679,\n",
       "       10680, 10681, 10682, 10683, 10684, 10685, 10686, 10687, 10688,\n",
       "       10689, 10690, 10691, 10692, 10693, 10694, 10695, 10696, 10697,\n",
       "       10698, 10699, 10700, 10701, 10702, 10703, 10704, 10705, 10706,\n",
       "       10707, 10708, 10709, 10710, 10711, 10712, 10713, 10714, 10715,\n",
       "       10716, 10717, 10718, 10719, 10720, 10721, 10722, 10723, 10724,\n",
       "       10725, 10726, 10727, 10728, 10729, 10730, 10731, 10732, 10733,\n",
       "       10734, 10735, 10736, 10737, 10738, 10739, 10740, 10741, 10742,\n",
       "       10743, 10744, 10745, 10746, 10747, 10748, 10749, 10750, 10751,\n",
       "       10752, 10753, 10754, 10755, 10756, 10757, 10758, 10759, 10760,\n",
       "       10761, 10762, 10763, 10764, 10765, 10766, 10767, 10768, 10769,\n",
       "       10770, 10771, 10772, 10773, 10774, 10775, 10776, 10777, 10778,\n",
       "       10779, 10780, 10781, 10782, 10783, 10784, 10785, 10786, 10787,\n",
       "       10788, 10789, 10790, 10791, 10792, 10793, 10794, 10795, 10796,\n",
       "       10797, 10798, 10799, 10800, 10801, 10802, 10803, 10804, 10805,\n",
       "       10806, 10807, 10808, 10809, 10810, 10811, 10812, 10813, 10814,\n",
       "       10815, 10816, 10817, 10818, 10819, 10820, 10821, 10822, 10823,\n",
       "       10824, 10825, 10826, 10827, 10828, 10829, 10830, 10831, 10832,\n",
       "       10833, 10834, 10835, 10836, 10837, 10838, 10839, 10840, 10841,\n",
       "       10842, 10843, 10844, 10845, 10846, 10847, 10848, 10849, 10850,\n",
       "       10851, 10852, 10853, 10854, 10855, 10856, 10857, 10858, 10859,\n",
       "       10860, 10861, 10862, 10863, 10864, 10865, 10866, 10867, 10868,\n",
       "       10869, 10870, 10871, 10872, 10873, 10874, 10875, 10876, 10877,\n",
       "       10878, 10879, 10880, 10881, 10882, 10883, 10884, 10885, 10886,\n",
       "       10887, 10888, 10889, 10890, 10891, 10892, 10893, 10894, 10895,\n",
       "       10896, 10897, 10898, 10899, 10900, 10901, 10902, 10903, 10904,\n",
       "       10905, 10906, 10907, 10908, 10909, 10910, 10911, 10912, 10913,\n",
       "       10914, 10915, 10916, 10917, 10918, 10919, 10920, 10921, 10922,\n",
       "       10923, 10924, 10925, 10926, 10927, 10928, 10929, 10930, 10931,\n",
       "       10932, 10933, 10934, 10935, 10936, 10937, 10938, 10939, 10940,\n",
       "       10941, 10942, 10943, 10944, 10945, 10946, 10947, 10948, 10949,\n",
       "       10950, 10951, 10952, 10953, 10954, 10955, 10956, 10957, 10958,\n",
       "       10959, 10960, 10961, 10962, 10963, 10964, 10965, 10966, 10967,\n",
       "       10968, 10969, 10970, 10971, 10972, 10973, 10974, 10975, 10976,\n",
       "       10977, 10978, 10979, 10980, 10981, 10982, 10983, 10984, 10985,\n",
       "       10986, 10987, 10988, 10989, 10990, 10991, 10992, 10993, 10994,\n",
       "       10995, 10996, 10997, 10998, 10999, 11000, 11001, 11002, 11003,\n",
       "       11004, 11005, 11006, 11007, 11008, 11009, 11010, 11011, 11012,\n",
       "       11013, 11014, 11015, 11016, 11017, 11018, 11019, 11020, 11021,\n",
       "       11022, 11023, 11024, 11025, 11026, 11027, 11028, 11029, 11030,\n",
       "       11031, 11032, 11033, 11034, 11035, 11036, 11037, 11038, 11039,\n",
       "       11040, 11041, 11042, 11043, 11044, 11045, 11046, 11047, 11048,\n",
       "       11049, 11050, 11051, 11052, 11053, 11054, 11055, 11056, 11057,\n",
       "       11058, 11059, 11060, 11061, 11062, 11063, 11064, 11065, 11066,\n",
       "       11067, 11068, 11069, 11070, 11071, 11072, 11073, 11074, 11075,\n",
       "       11076, 11077], dtype=int64)"
      ]
     },
     "execution_count": 115,
     "metadata": {},
     "output_type": "execute_result"
    }
   ],
   "source": [
    "catd['OrderId'].unique()"
   ]
  },
  {
   "cell_type": "code",
   "execution_count": 118,
   "metadata": {},
   "outputs": [
    {
     "data": {
      "text/plain": [
       "[0.0, 0.01, 0.02, 0.03, 0.04, 0.05, 0.06, 0.1, 0.15, 0.2, 0.25]"
      ]
     },
     "execution_count": 118,
     "metadata": {},
     "output_type": "execute_result"
    }
   ],
   "source": [
    "for key in catd.keys():\n",
    "    lst = list(catd[key].unique())\n",
    "    for ls in lst:\n",
    "        count = len(catd[key])"
   ]
  },
  {
   "cell_type": "code",
   "execution_count": 84,
   "metadata": {},
   "outputs": [
    {
     "data": {
      "text/plain": [
       "[0.0, 0.01, 0.02, 0.03, 0.04, 0.05, 0.06, 0.1, 0.15, 0.2, 0.25]"
      ]
     },
     "execution_count": 84,
     "metadata": {},
     "output_type": "execute_result"
    }
   ],
   "source": [
    "disc = list(df.Discount.unique())\n",
    "disc.sort()\n",
    "disc"
   ]
  },
  {
   "cell_type": "code",
   "execution_count": 85,
   "metadata": {},
   "outputs": [],
   "source": [
    "ddict = dict()\n",
    "for key in disc:\n",
    "    ddict[key]=None\n",
    "    dval = len(df.Discount[df.Discount == key])/len(df.Discount)\n",
    "    ddict[key]=dval"
   ]
  },
  {
   "cell_type": "code",
   "execution_count": 93,
   "metadata": {},
   "outputs": [
    {
     "name": "stdout",
     "output_type": "stream",
     "text": [
      "0.0 discount count: 1317\n",
      "0.01 discount count: 1\n",
      "0.02 discount count: 2\n",
      "0.03 discount count: 3\n",
      "0.04 discount count: 1\n",
      "0.05 discount count: 185\n",
      "0.06 discount count: 1\n",
      "0.1 discount count: 173\n",
      "0.15 discount count: 157\n",
      "0.2 discount count: 161\n",
      "0.25 discount count: 154\n"
     ]
    }
   ],
   "source": [
    "for key in disc:\n",
    "    count = len(df.Discount[df.Discount == key])\n",
    "    print(key,'discount count:',count)"
   ]
  },
  {
   "cell_type": "code",
   "execution_count": 94,
   "metadata": {},
   "outputs": [
    {
     "name": "stdout",
     "output_type": "stream",
     "text": [
      "0.0 discount count%: 61.1 %\n",
      "0.01 discount count%: 0.0 %\n",
      "0.02 discount count%: 0.1 %\n",
      "0.03 discount count%: 0.1 %\n",
      "0.04 discount count%: 0.0 %\n",
      "0.05 discount count%: 8.6 %\n",
      "0.06 discount count%: 0.0 %\n",
      "0.1 discount count%: 8.0 %\n",
      "0.15 discount count%: 7.3 %\n",
      "0.2 discount count%: 7.5 %\n",
      "0.25 discount count%: 7.1 %\n"
     ]
    }
   ],
   "source": [
    "for key in disc:\n",
    "    count = len(df.Discount[df.Discount == key])\n",
    "    perc = round(count/len(df.Discount),3)*100\n",
    "    print(key,'discount count%:',perc,'%')"
   ]
  }
 ],
 "metadata": {
  "kernelspec": {
   "display_name": "Python 3",
   "language": "python",
   "name": "python3"
  },
  "language_info": {
   "codemirror_mode": {
    "name": "ipython",
    "version": 3
   },
   "file_extension": ".py",
   "mimetype": "text/x-python",
   "name": "python",
   "nbconvert_exporter": "python",
   "pygments_lexer": "ipython3",
   "version": "3.7.0"
  }
 },
 "nbformat": 4,
 "nbformat_minor": 2
}
